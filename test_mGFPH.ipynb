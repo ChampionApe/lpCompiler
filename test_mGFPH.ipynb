{
 "cells": [
  {
   "cell_type": "code",
   "execution_count": 1,
   "id": "a006de59-d197-4e30-bc60-2e45c5160695",
   "metadata": {},
   "outputs": [],
   "source": [
    "%run stdPackages.ipynb"
   ]
  },
  {
   "cell_type": "markdown",
   "id": "c4e9f005-b6e7-438c-a798-5b39fcf9bdf5",
   "metadata": {},
   "source": [
    "# Read database"
   ]
  },
  {
   "cell_type": "code",
   "execution_count": 2,
   "id": "b289504f-8d5a-40dd-8cec-45b7b4a92b9c",
   "metadata": {},
   "outputs": [],
   "source": [
    "from pyDatabases.simpleDB_wheels import read, readSets, broadcast\n",
    "kwargs = {'variables': ['Fundamentals', 'LoadVariables', 'TransmissionLines', 'GeneratorsVariables'],\n",
    "        'maps': ['LoadMaps','GeneratorsMaps'],\n",
    "        'variable2D': ['LoadVariation_E','LoadVariation_H','HourlyVariation'],\n",
    "        'scalars': ['Scalars']}\n",
    "db = read.dbFromWB(os.path.join(d['data'],'mGFPH.xlsx'), kwargs)\n",
    "readSets(db)"
   ]
  },
  {
   "cell_type": "markdown",
   "id": "d91f9b48-d014-4526-a1dc-08e6f64bf7ac",
   "metadata": {},
   "source": [
    "**Basic model:**"
   ]
  },
  {
   "cell_type": "code",
   "execution_count": null,
   "id": "7d2466ae-2a9f-4890-b101-a17e182fa3d1",
   "metadata": {},
   "outputs": [],
   "source": [
    "# m = mGFPH.mSimple(db) # initialize using the database 'db' from above.\n",
    "# m() # standard steps"
   ]
  },
  {
   "cell_type": "markdown",
   "id": "9a071839-5f1d-4291-a4d5-8418cb4385e2",
   "metadata": {},
   "source": [
    "*This takes a loooot of time to solve - in particular the solution part:*"
   ]
  },
  {
   "cell_type": "code",
   "execution_count": 3,
   "id": "e2848f8c-22ab-43fe-8456-e732aadf0177",
   "metadata": {},
   "outputs": [
    {
     "data": {
      "text/plain": [
       "{'setup': 0.5191655158996582,\n",
       " 'initBlocks': 12.13508939743042,\n",
       " 'compileParameters': 10.195276021957397,\n",
       " 'settingsFromCompiled': 0.0,\n",
       " 'inferGlobalDomains': 2.202805280685425,\n",
       " 'getDenseArgs': 7.199055910110474,\n",
       " 'lp_args': 3.811894178390503,\n",
       " 'sol': 161.20293045043945,\n",
       " 'postSolve': 5.327423095703125}"
      ]
     },
     "execution_count": 3,
     "metadata": {},
     "output_type": "execute_result"
    }
   ],
   "source": [
    "import time\n",
    "times = {}\n",
    "t0 = time.time()\n",
    "# Initialize model:\n",
    "m = mGFPH.mSimple(db) # initialize using the database 'db' from above.\n",
    "times['setup'] = time.time()-t0\n",
    "# Initialize blocks:\n",
    "m.preSolve()\n",
    "m.initBlocks()\n",
    "times['initBlocks'] = time.time()-t0-sum(times.values())\n",
    "# Compile model:\n",
    "m.blocks.compileParameters()\n",
    "times['compileParameters'] = time.time()-t0-sum(times.values())\n",
    "m.blocks.settingsFromCompiled()\n",
    "times['settingsFromCompiled'] = time.time()-t0-sum(times.values())\n",
    "m.blocks.inferGlobalDomains()\n",
    "times['inferGlobalDomains'] = time.time()-t0-sum(times.values())\n",
    "m.blocks.getDenseArgs()\n",
    "times['getDenseArgs'] = time.time()-t0-sum(times.values())\n",
    "args = m.blocks.lp_args\n",
    "times['lp_args'] = time.time()-t0-sum(times.values())\n",
    "sol = optimize.linprog(method = m.method, **args)\n",
    "times['sol'] = time.time()-t0-sum(times.values())\n",
    "m.postSolve(sol)\n",
    "times['postSolve'] = time.time()-t0-sum(times.values())\n",
    "times"
   ]
  },
  {
   "cell_type": "markdown",
   "id": "93a251a3-d2ae-40b3-bbf2-87d9d8dfd2b0",
   "metadata": {},
   "source": [
    "**Emissions cap:**"
   ]
  },
  {
   "cell_type": "markdown",
   "id": "ff412e75-303b-42bd-aad1-4d12ebf30b11",
   "metadata": {},
   "source": [
    "With one common cap:"
   ]
  },
  {
   "cell_type": "code",
   "execution_count": null,
   "id": "f1e94e95-f0d9-4a5c-8958-839180fad536",
   "metadata": {},
   "outputs": [],
   "source": [
    "# m = mBasicPH.mEmissionCap(db)\n",
    "# m()"
   ]
  },
  {
   "cell_type": "markdown",
   "id": "e0189045-bbd1-4882-81e5-fd42fae52b87",
   "metadata": {},
   "source": [
    "With separate caps:"
   ]
  },
  {
   "cell_type": "code",
   "execution_count": null,
   "id": "9f630b9f-8db1-49e1-9c48-df35708cbd4f",
   "metadata": {},
   "outputs": [],
   "source": [
    "# m.commonCap = False\n",
    "# m()"
   ]
  },
  {
   "cell_type": "markdown",
   "id": "0edab6e8-ff99-4c2a-8baa-16c9e2901288",
   "metadata": {},
   "source": [
    "**RES:**"
   ]
  },
  {
   "cell_type": "markdown",
   "id": "210b8308-9042-404d-9f3d-eba44fd8a680",
   "metadata": {},
   "source": [
    "Common cap:"
   ]
  },
  {
   "cell_type": "code",
   "execution_count": null,
   "id": "46b9d350-6805-4895-be4a-546d685f1d26",
   "metadata": {},
   "outputs": [],
   "source": [
    "# m = mBasicPH.mRES(db)\n",
    "# m()"
   ]
  },
  {
   "cell_type": "markdown",
   "id": "bb44c2b8-54ec-40b2-8174-75809b4c22a0",
   "metadata": {},
   "source": [
    "With separate caps:"
   ]
  },
  {
   "cell_type": "code",
   "execution_count": null,
   "id": "67442f48-9a04-438f-bff9-49ffd2dddd7d",
   "metadata": {},
   "outputs": [],
   "source": [
    "# m.commonCap = False\n",
    "# m()"
   ]
  }
 ],
 "metadata": {
  "kernelspec": {
   "display_name": "Python 3 (ipykernel)",
   "language": "python",
   "name": "python3"
  },
  "language_info": {
   "codemirror_mode": {
    "name": "ipython",
    "version": 3
   },
   "file_extension": ".py",
   "mimetype": "text/x-python",
   "name": "python",
   "nbconvert_exporter": "python",
   "pygments_lexer": "ipython3",
   "version": "3.9.7"
  }
 },
 "nbformat": 4,
 "nbformat_minor": 5
}
