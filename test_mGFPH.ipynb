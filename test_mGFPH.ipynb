{
 "cells": [
  {
   "cell_type": "code",
   "execution_count": 1,
   "id": "a006de59-d197-4e30-bc60-2e45c5160695",
   "metadata": {},
   "outputs": [],
   "source": [
    "%run stdPackages.ipynb"
   ]
  },
  {
   "cell_type": "markdown",
   "id": "c4e9f005-b6e7-438c-a798-5b39fcf9bdf5",
   "metadata": {},
   "source": [
    "# Read database"
   ]
  },
  {
   "cell_type": "code",
   "execution_count": 2,
   "id": "b289504f-8d5a-40dd-8cec-45b7b4a92b9c",
   "metadata": {},
   "outputs": [],
   "source": [
    "from pyDbs import read, readSets, broadcast\n",
    "kwargs = {'variables': ['Fundamentals', 'LoadVariables', 'TransmissionLines', 'GeneratorsVariables','Regulation'],\n",
    "        'maps': ['LoadMaps','GeneratorsMaps'],\n",
    "        'variable2D': ['LoadVariation_E','LoadVariation_H','HourlyVariation'],\n",
    "        'scalars': ['Scalars']}\n",
    "db = read.dbFromWB(os.path.join(d['data'],'mGFPH.xlsx'), kwargs)\n",
    "readSets(db)"
   ]
  },
  {
   "cell_type": "markdown",
   "id": "421213d7-3acb-4fd6-a705-1a99a83271c0",
   "metadata": {},
   "source": [
    "*Select only the first couple of hours for this test:*"
   ]
  },
  {
   "cell_type": "code",
   "execution_count": 3,
   "id": "a06c97b2-ab19-4da2-897c-8f6236014a23",
   "metadata": {},
   "outputs": [],
   "source": [
    "[db.__setitem__(k,adj.rc_pd(db[k], db['h'][0:3])) for k in db.variableDomains('h', types=['set','variable'])];"
   ]
  },
  {
   "cell_type": "markdown",
   "id": "d91f9b48-d014-4526-a1dc-08e6f64bf7ac",
   "metadata": {},
   "source": [
    "**Basic model:**"
   ]
  },
  {
   "cell_type": "code",
   "execution_count": 4,
   "id": "7d2466ae-2a9f-4890-b101-a17e182fa3d1",
   "metadata": {},
   "outputs": [
    {
     "name": "stdout",
     "output_type": "stream",
     "text": [
      "Solution status 0: Optimization terminated successfully. (HiGHS Status 7: Optimal)\n"
     ]
    }
   ],
   "source": [
    "m = mGFPH.mSimple(db) # initialize using the database 'db' from above.\n",
    "m() # standard steps"
   ]
  },
  {
   "cell_type": "markdown",
   "id": "93a251a3-d2ae-40b3-bbf2-87d9d8dfd2b0",
   "metadata": {},
   "source": [
    "**Emissions cap:**"
   ]
  },
  {
   "cell_type": "markdown",
   "id": "ff412e75-303b-42bd-aad1-4d12ebf30b11",
   "metadata": {},
   "source": [
    "With one common cap:"
   ]
  },
  {
   "cell_type": "code",
   "execution_count": 5,
   "id": "f1e94e95-f0d9-4a5c-8958-839180fad536",
   "metadata": {},
   "outputs": [
    {
     "name": "stdout",
     "output_type": "stream",
     "text": [
      "Solution status 0: Optimization terminated successfully. (HiGHS Status 7: Optimal)\n"
     ]
    }
   ],
   "source": [
    "m = mGFPH.mEmissionCap(db)\n",
    "m()"
   ]
  },
  {
   "cell_type": "markdown",
   "id": "e0189045-bbd1-4882-81e5-fd42fae52b87",
   "metadata": {},
   "source": [
    "With separate caps:"
   ]
  },
  {
   "cell_type": "code",
   "execution_count": 6,
   "id": "9f630b9f-8db1-49e1-9c48-df35708cbd4f",
   "metadata": {},
   "outputs": [
    {
     "name": "stdout",
     "output_type": "stream",
     "text": [
      "Solution status 0: Optimization terminated successfully. (HiGHS Status 7: Optimal)\n"
     ]
    }
   ],
   "source": [
    "m.commonCap = False\n",
    "m()"
   ]
  },
  {
   "cell_type": "markdown",
   "id": "0edab6e8-ff99-4c2a-8baa-16c9e2901288",
   "metadata": {},
   "source": [
    "**RES:**"
   ]
  },
  {
   "cell_type": "markdown",
   "id": "210b8308-9042-404d-9f3d-eba44fd8a680",
   "metadata": {},
   "source": [
    "Common cap:"
   ]
  },
  {
   "cell_type": "code",
   "execution_count": 7,
   "id": "46b9d350-6805-4895-be4a-546d685f1d26",
   "metadata": {},
   "outputs": [
    {
     "name": "stdout",
     "output_type": "stream",
     "text": [
      "Solution status 0: Optimization terminated successfully. (HiGHS Status 7: Optimal)\n"
     ]
    }
   ],
   "source": [
    "m = mGFPH.mRES(db)\n",
    "m()"
   ]
  },
  {
   "cell_type": "markdown",
   "id": "bb44c2b8-54ec-40b2-8174-75809b4c22a0",
   "metadata": {},
   "source": [
    "With separate caps:"
   ]
  },
  {
   "cell_type": "code",
   "execution_count": 8,
   "id": "67442f48-9a04-438f-bff9-49ffd2dddd7d",
   "metadata": {},
   "outputs": [
    {
     "name": "stdout",
     "output_type": "stream",
     "text": [
      "Solution status 0: Optimization terminated successfully. (HiGHS Status 7: Optimal)\n"
     ]
    }
   ],
   "source": [
    "m.commonCap = False\n",
    "m()"
   ]
  },
  {
   "cell_type": "markdown",
   "id": "e3f621e8-4ad1-4eaf-8714-1d2dc5028b83",
   "metadata": {},
   "source": [
    "**Multiple consumers:**"
   ]
  },
  {
   "cell_type": "code",
   "execution_count": 10,
   "id": "6c52803d-95f8-4d39-9650-a5a6ec654be1",
   "metadata": {},
   "outputs": [
    {
     "name": "stdout",
     "output_type": "stream",
     "text": [
      "Solution status 0: Optimization terminated successfully. (HiGHS Status 7: Optimal)\n"
     ]
    }
   ],
   "source": [
    "m = mGFPH.mMultipleConsumers(db)\n",
    "m()"
   ]
  }
 ],
 "metadata": {
  "kernelspec": {
   "display_name": "Python 3 (ipykernel)",
   "language": "python",
   "name": "python3"
  },
  "language_info": {
   "codemirror_mode": {
    "name": "ipython",
    "version": 3
   },
   "file_extension": ".py",
   "mimetype": "text/x-python",
   "name": "python",
   "nbconvert_exporter": "python",
   "pygments_lexer": "ipython3",
   "version": "3.9.7"
  }
 },
 "nbformat": 4,
 "nbformat_minor": 5
}
