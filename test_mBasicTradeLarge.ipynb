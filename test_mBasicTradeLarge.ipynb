{
 "cells": [
  {
   "cell_type": "code",
   "execution_count": 1,
   "id": "e5bc0671-eee4-438f-9321-b72c07da8418",
   "metadata": {},
   "outputs": [],
   "source": [
    "%run stdPackages.ipynb"
   ]
  },
  {
   "cell_type": "markdown",
   "id": "83f33cae-1b36-4419-9994-fde82f615a4a",
   "metadata": {
    "tags": []
   },
   "source": [
    "# Read database"
   ]
  },
  {
   "cell_type": "code",
   "execution_count": 2,
   "id": "1b90ee87-525a-4b07-8014-f0b17de3fc9c",
   "metadata": {},
   "outputs": [],
   "source": [
    "from pydb import read, readSets, broadcast\n",
    "kwargs = {'variables': ['Fundamentals', 'Load', 'Generators_Other','TL'], \n",
    "        'variable2D': ['Generators_FuelMix','HourlyVariation'],\n",
    "        'scalars': ['Scalars'],\n",
    "        'maps': ['Generators_Categories','Load_Categories']}\n",
    "db = read.dbFromWB(os.path.join(d['data'],'mBasicTradeLarge.xlsx'), kwargs)\n",
    "readSets(db)"
   ]
  },
  {
   "cell_type": "markdown",
   "id": "b111ad1d-c81a-4f9e-a166-30a774a9e6cc",
   "metadata": {},
   "source": [
    "Test large model:"
   ]
  },
  {
   "cell_type": "code",
   "execution_count": 3,
   "id": "a798f4f5-fc97-4afe-93a8-5794396cb459",
   "metadata": {},
   "outputs": [
    {
     "name": "stdout",
     "output_type": "stream",
     "text": [
      "Solution status 0: Optimization terminated successfully. (HiGHS Status 7: Optimal)\n"
     ]
    }
   ],
   "source": [
    "m = mBasicTrade.mSimple(db) # initialize using the database 'db' from above.\n",
    "m() # standard steps"
   ]
  }
 ],
 "metadata": {
  "kernelspec": {
   "display_name": "Python 3 (ipykernel)",
   "language": "python",
   "name": "python3"
  },
  "language_info": {
   "codemirror_mode": {
    "name": "ipython",
    "version": 3
   },
   "file_extension": ".py",
   "mimetype": "text/x-python",
   "name": "python",
   "nbconvert_exporter": "python",
   "pygments_lexer": "ipython3",
   "version": "3.9.7"
  }
 },
 "nbformat": 4,
 "nbformat_minor": 5
}
