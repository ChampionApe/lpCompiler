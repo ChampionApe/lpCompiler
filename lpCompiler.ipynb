{
 "cells": [
  {
   "cell_type": "code",
   "execution_count": 1,
   "id": "f3c5e4ca-7350-4d78-b91b-a8e151436233",
   "metadata": {},
   "outputs": [],
   "source": [
    "%run stdPackages.ipynb"
   ]
  },
  {
   "cell_type": "markdown",
   "id": "2c1962ef-37d9-41ca-b716-51f1ed461068",
   "metadata": {},
   "source": [
    "The ```lpCompiler``` consists of two main databases and works as follows:\n",
    "* Add an argument: This is a (key,type,value) tuple with key = name of constraint/argument, type = type of constraint/argument, and value the input to be parsed. Ideally, we would like three ways to add new arguments:\n",
    "    1. Add a single, new argument.\n",
    "    2. Adjust existing argument.\n",
    "    3. Add an entire constraint from equation text (requires developing a compiler).\n",
    "    \n",
    "    Adding a new argument, we process the information and store in ```self.parameters``` (one container for each type in the ```lp``` program ```c, l, u, beq, bub, Aeq, Aub```). \n",
    "* Given the parameter structure, make functions that infer the global domains. \n",
    "* Given the parameter structure and global domains, create container for ```broadcasted``` parameter containers. These are sparse data structure that are filled with ```nan```, zeros, or whatever else default value is assumed. \n",
    "* Given broadcasted parameters, make ```__call__``` function that stack all parameters/constraints..."
   ]
  },
  {
   "cell_type": "markdown",
   "id": "b0b8e85a-075b-4b7a-a6c0-c22d7e7afbfe",
   "metadata": {},
   "source": [
    "### 1. Add an argument to the model.\n",
    "The arguments depend on what type of constraint we are considering."
   ]
  },
  {
   "cell_type": "markdown",
   "id": "65acbf3f-a7d3-4637-b54a-7ab50b34fd67",
   "metadata": {},
   "source": [
    "* Adding coefficients on variables (```c,l,u```): Should be added as pd.Series with appropriate values, indices, and name of series (corresponding to variable name). To distinguish between adding ```c,l,u``` type of arguments, we specify a separate add function for each of them (e.g. ```addC```). More specifically:\n",
    "    * ```name```: The name input is required as it used to add/adjust/subtract coefficient blocks after initial compilation.\n",
    "    * ```value = None```: \n",
    "        * If the input is a scalar: The scalar is added with variable name ```varName```.\n",
    "        * If the input is a pd.Series: The name of the series identifies the variable name. If ```None``` we default to the ```name```.\n",
    "        * If the input is a list/tuple: The various components are summed/max/min if the block type is ```c,l,u``` respectively.\n",
    "        * If the input is a dict: Add multiple coefficients (iterate through ```self.addC(k, **v)``` for ```k,v``` in ```input```). \n",
    "    * ```varName = None```: If the input is a scalar, this specifies the name of this scalar."
   ]
  },
  {
   "cell_type": "markdown",
   "id": "517a9d39-9235-42e0-87e7-a2b0934c0702",
   "metadata": {},
   "source": [
    "* Adding coefficients on constraint vectors (```beq, bub```): Added in a similar way as ```c,l,u```, with the difference that names relate to the relevant constraint."
   ]
  },
  {
   "cell_type": "markdown",
   "id": "b8205b82-4e88-49d3-bcbd-96dfaf1f1860",
   "metadata": {},
   "source": [
    "* Adding coefficients on constraint matrices (```Aeq, Aub```): Add a constraint name and a collection of inputs. More specifically:\n",
    "    * ```name```: The name of the constraint is required.\n",
    "    * ```value```: dictionary with ```k``` = name of relevant variable and ```v``` depends on type of input\n",
    "        * If ```v``` is a pd.Series: Coefficient is \n",
    "        * If ```v``` is a list/tuple: Add the various components by adding them. "
   ]
  },
  {
   "cell_type": "markdown",
   "id": "d2570708-fbcf-4f2f-921f-021166eb1a3c",
   "metadata": {},
   "source": [
    "* Add a constraint (of type ```eq``` or ```ub```): Add ```b, A``` like coefficients:"
   ]
  },
  {
   "cell_type": "markdown",
   "id": "7c4c0ad3-db37-4cd5-ac86-e77c8a26e508",
   "metadata": {},
   "source": [
    "Two compile methods: Compile with stacking or by summing/taking the max/taking the minimum depending on the type of parameter in question. The compile using stacking is much faster, but requires that relevant entries are not repeated. That means that a variable $x_s$ enters at most once for each $s$ in both $c,l,u$. "
   ]
  },
  {
   "cell_type": "markdown",
   "id": "618e52bd-1eeb-4484-a10b-3c843b6dca76",
   "metadata": {},
   "source": [
    "```self.readDict```: NOTE Add this to the ```lpModel``` class instead.\n",
    "* ```name```:  Name of symbol.\n",
    "* ```value```: pd.Series or scalar.\n",
    "* ```c```: Condition to be applied on ```value``` when adding coefficient. (through ```pyDatabases.adj.rc_pd```)\n",
    "* ```alias```: Alias to be applied on ```value``` when adding coefficient. (through ```pyDatabases.adj.rc_pd```)\n",
    "* ```lag```: Lag to be applied on ```value``` when adding coefficient. (through ```pyDatabases.adj.rc_pd```)\n",
    "* ```fill_value=0```."
   ]
  },
  {
   "cell_type": "markdown",
   "id": "7cbcd1d2-972f-4423-b7d6-9110f8f409b5",
   "metadata": {},
   "source": [
    "## 2. Sparse methods:"
   ]
  },
  {
   "cell_type": "markdown",
   "id": "ea860582-5818-44b4-8b1c-edc7f0fa985d",
   "metadata": {},
   "source": [
    "### 2.1. Init"
   ]
  },
  {
   "cell_type": "code",
   "execution_count": 2,
   "id": "27d67fa3-2bc0-4090-8187-5609d81a3b3b",
   "metadata": {},
   "outputs": [],
   "source": [
    "size = 1000000"
   ]
  },
  {
   "cell_type": "markdown",
   "id": "f41a0d8f-0dec-47a6-acea-eaf8fd903e80",
   "metadata": {},
   "source": [
    "*Sparse series of zeros and otherwise default values:*"
   ]
  },
  {
   "cell_type": "code",
   "execution_count": 3,
   "id": "26026168-d2d8-4104-b1ae-2c585ab40abe",
   "metadata": {},
   "outputs": [],
   "source": [
    "s = sparseSeries(np.zeros(size), index = None, name = None, fill_value = 0, dtype = None)"
   ]
  },
  {
   "cell_type": "markdown",
   "id": "7d506082-2e1a-417c-a8b0-10808f9a159c",
   "metadata": {},
   "source": [
    "*Empty series (with fill_value as sparse data input):*"
   ]
  },
  {
   "cell_type": "code",
   "execution_count": 4,
   "id": "30ae8c6f-b932-48f0-8bf9-30d01dd5bfb0",
   "metadata": {},
   "outputs": [],
   "source": [
    "s = sparseEmptySeries(size, fill_value = 0, index = None, name = None)"
   ]
  },
  {
   "cell_type": "markdown",
   "id": "5b06b043-e040-4021-b41d-dd3a14e1d9bf",
   "metadata": {},
   "source": [
    "#### *Sparse unstacking with specified index levels:*"
   ]
  },
  {
   "cell_type": "markdown",
   "id": "98801ff4-f6e0-48c4-83d7-3b19e7d2224d",
   "metadata": {},
   "source": [
    "*Create symbol with relevant index levels:*"
   ]
  },
  {
   "cell_type": "code",
   "execution_count": 5,
   "id": "0609ceb0-78b0-41bc-b7ba-6b66b89e7860",
   "metadata": {},
   "outputs": [],
   "source": [
    "indexVar = pd.MultiIndex.from_product([['varName'], range(size)], names = ['_vsymbol', '_vindex'])\n",
    "indexEqs = pd.MultiIndex.from_product([['eqName'],  range(10, size+10)], names = ['_eqsymbol','_eqindex'])\n",
    "index = pd.MultiIndex.from_frame(pd.concat([indexVar.to_frame(index=False), indexEqs.to_frame(index=False)],axis=1))\n",
    "s = sparseSeries(np.random.rand(size), index = index)"
   ]
  },
  {
   "cell_type": "markdown",
   "id": "cad6988c-4bd2-4de2-a59f-7686f26ff20b",
   "metadata": {},
   "source": [
    "Note that it takes longer to initialize the sparse series, but nothing that should be too prohibitively slow:"
   ]
  },
  {
   "cell_type": "code",
   "execution_count": 6,
   "id": "4f956204-0079-4373-bf86-39e661a75b09",
   "metadata": {},
   "outputs": [
    {
     "name": "stdout",
     "output_type": "stream",
     "text": [
      "10.3 ms ± 567 µs per loop (mean ± std. dev. of 7 runs, 100 loops each)\n"
     ]
    }
   ],
   "source": [
    "%%timeit\n",
    "s = pd.Series(np.random.rand(size), index = index)"
   ]
  },
  {
   "cell_type": "code",
   "execution_count": 7,
   "id": "7ebc83b2-8e96-459f-9de8-4bee8f786719",
   "metadata": {},
   "outputs": [
    {
     "name": "stdout",
     "output_type": "stream",
     "text": [
      "26.6 ms ± 1.4 ms per loop (mean ± std. dev. of 7 runs, 10 loops each)\n"
     ]
    }
   ],
   "source": [
    "%%timeit\n",
    "s = sparseSeries(np.random.rand(size), index = index)"
   ]
  },
  {
   "cell_type": "markdown",
   "id": "e0e2a7c7-a5fc-4bfe-83ac-b78d83713a11",
   "metadata": {},
   "source": [
    "*Map ```[_vsymbol, _vindex]``` indices to unique (row) identifiers:*"
   ]
  },
  {
   "cell_type": "code",
   "execution_count": 8,
   "id": "61695fc6-9ad8-45c8-96ce-6bdae7af6fe1",
   "metadata": {},
   "outputs": [],
   "source": [
    "rowIds = s.groupby(['_vsymbol','_vindex']).ngroup().values\n",
    "colIds = s.groupby(['_eqsymbol','_eqindex']).ngroup().values"
   ]
  },
  {
   "cell_type": "markdown",
   "id": "65f97bf9-501e-434c-a745-f0ee70bf103e",
   "metadata": {},
   "source": [
    "*Create dataframe with sparse data input: This takes quite a lot of time:*"
   ]
  },
  {
   "cell_type": "code",
   "execution_count": 9,
   "id": "b7947056-591b-4d8f-ab83-f2d1731794ed",
   "metadata": {},
   "outputs": [],
   "source": [
    "x = pd.DataFrame.sparse.from_spmatrix(sparse.coo_matrix((s.values, (rowIds, colIds)), shape = (len(rowIds), len(colIds))))"
   ]
  },
  {
   "cell_type": "markdown",
   "id": "184eef8e-52af-4017-a659-910e48e4274a",
   "metadata": {},
   "source": [
    "*Instead, we should only do the unstacking to a scipy matrix and parse this to the lp model:*"
   ]
  },
  {
   "cell_type": "code",
   "execution_count": 10,
   "id": "050ff7bb-49aa-40e6-8513-9436051c6156",
   "metadata": {},
   "outputs": [
    {
     "name": "stdout",
     "output_type": "stream",
     "text": [
      "Wall time: 709 ms\n"
     ]
    }
   ],
   "source": [
    "%%time\n",
    "x = sparse.coo_matrix((s.values, (rowIds, colIds)), shape = (len(rowIds), len(colIds)))"
   ]
  },
  {
   "cell_type": "markdown",
   "id": "f44aa7a3-4399-4057-a311-b36970ca9c0d",
   "metadata": {
    "tags": []
   },
   "source": [
    "### 2.2. Sparse broadcast, sum, max, min, stack"
   ]
  },
  {
   "cell_type": "markdown",
   "id": "cd8f1c27-a828-4279-9c45-17c1cdbdcbb4",
   "metadata": {},
   "source": [
    "*Create symbols for testing purposes:*"
   ]
  },
  {
   "cell_type": "code",
   "execution_count": 11,
   "id": "8ec85636-cef0-41f7-a47d-09563ef7800d",
   "metadata": {},
   "outputs": [],
   "source": [
    "# Create some indices:\n",
    "indices = {'x': pd.Index(range(1,11),  name = 'x'),\n",
    "           'y': pd.Index(range(11,21), name = 'y'),\n",
    "           'z': pd.Index([1,2], name = 'z')}\n",
    "indices['xy'] = pd.MultiIndex.from_arrays([indices['x'], indices['y']])\n",
    "# Add corresponding values - here just some ranges:\n",
    "symbols = {'x': sparseSeries(range(1,11), indices['x'], dtype = np.int32),\n",
    "           'y': sparseSeries(range(11,21), indices['y'], dtype=np.int32),\n",
    "           'xy':sparseSeries(range(21,31), indices['xy'], dtype=np.int32)}"
   ]
  },
  {
   "cell_type": "markdown",
   "id": "6a41294b-60e7-4176-a411-af1fb1c4dbda",
   "metadata": {},
   "source": [
    "#### Broadcast"
   ]
  },
  {
   "cell_type": "code",
   "execution_count": 12,
   "id": "c04c9032-99eb-43c0-9ff9-767061d7993b",
   "metadata": {},
   "outputs": [
    {
     "data": {
      "text/plain": [
       "x\n",
       "1     1\n",
       "2     1\n",
       "3     1\n",
       "4     1\n",
       "5     1\n",
       "6     1\n",
       "7     1\n",
       "8     1\n",
       "9     1\n",
       "10    1\n",
       "dtype: Sparse[int32, 0]"
      ]
     },
     "execution_count": 12,
     "metadata": {},
     "output_type": "execute_result"
    }
   ],
   "source": [
    "sparseBroadcast(1, symbols['x']) # "
   ]
  },
  {
   "cell_type": "markdown",
   "id": "08550ae8-b6e6-4d0e-b900-1089766f84fd",
   "metadata": {},
   "source": [
    "*Broadcast a series to another with non-overlapping domains. This returns the cartesian product index as default:*"
   ]
  },
  {
   "cell_type": "code",
   "execution_count": 13,
   "id": "5ffd0fc0-3d4e-452a-a40c-13f6391198a2",
   "metadata": {},
   "outputs": [
    {
     "data": {
      "text/plain": [
       "x   y \n",
       "1   11     1\n",
       "    12     1\n",
       "    13     1\n",
       "    14     1\n",
       "    15     1\n",
       "          ..\n",
       "10  16    10\n",
       "    17    10\n",
       "    18    10\n",
       "    19    10\n",
       "    20    10\n",
       "Length: 100, dtype: Sparse[int32, 0]"
      ]
     },
     "execution_count": 13,
     "metadata": {},
     "output_type": "execute_result"
    }
   ],
   "source": [
    "sparseBroadcast(symbols['x'], symbols['y'])"
   ]
  },
  {
   "cell_type": "markdown",
   "id": "bd34419f-53a8-4835-a334-6d94603827f5",
   "metadata": {},
   "source": [
    "*Broadcast a series to another with overlapping domain. You can add ```fill_value``` as a keyword argument for the cases with missing values:*"
   ]
  },
  {
   "cell_type": "code",
   "execution_count": 14,
   "id": "59fd3fee-8e40-47df-826d-1aa7cbbb0fe1",
   "metadata": {},
   "outputs": [
    {
     "data": {
      "text/plain": [
       "x   y \n",
       "1   11     1\n",
       "2   12     2\n",
       "3   13     3\n",
       "4   14     4\n",
       "5   15     5\n",
       "6   16     6\n",
       "7   17     7\n",
       "8   18     8\n",
       "9   19     9\n",
       "10  20    10\n",
       "dtype: Sparse[int32, 0]"
      ]
     },
     "execution_count": 14,
     "metadata": {},
     "output_type": "execute_result"
    }
   ],
   "source": [
    "sparseBroadcast(symbols['x'], symbols['xy'], fill_value=0)"
   ]
  },
  {
   "cell_type": "markdown",
   "id": "68f7785c-c73a-40db-bda7-8f8a1f96683c",
   "metadata": {},
   "source": [
    "#### Sum"
   ]
  },
  {
   "cell_type": "code",
   "execution_count": 15,
   "id": "ad077dc8-3398-4952-8033-cb46dd3aa178",
   "metadata": {},
   "outputs": [],
   "source": [
    "ite = list(symbols.values())"
   ]
  },
  {
   "cell_type": "markdown",
   "id": "414a6916-6908-42e8-a72f-506e2271e686",
   "metadata": {},
   "source": [
    "Take the sum over an iterator with symbols that and broadcast to relevant domain if they do not match:"
   ]
  },
  {
   "cell_type": "code",
   "execution_count": 16,
   "id": "7e026391-9cae-4d23-a5bd-d2fe6677bf1d",
   "metadata": {},
   "outputs": [
    {
     "ename": "TypeError",
     "evalue": "SparseArray does not support item assignment via setitem",
     "output_type": "error",
     "traceback": [
      "\u001b[1;31m---------------------------------------------------------------------------\u001b[0m",
      "\u001b[1;31mTypeError\u001b[0m                                 Traceback (most recent call last)",
      "\u001b[1;32m~\\AppData\\Local\\Temp/ipykernel_8200/1640769475.py\u001b[0m in \u001b[0;36m<module>\u001b[1;34m\u001b[0m\n\u001b[1;32m----> 1\u001b[1;33m \u001b[0msumIte\u001b[0m\u001b[1;33m(\u001b[0m\u001b[0mite\u001b[0m\u001b[1;33m)\u001b[0m\u001b[1;33m\u001b[0m\u001b[1;33m\u001b[0m\u001b[0m\n\u001b[0m",
      "\u001b[1;32m~\\Documents\\GitHub\\lpCompiler\\py\\base.py\u001b[0m in \u001b[0;36msumIte\u001b[1;34m(ite, fill_value)\u001b[0m\n\u001b[0;32m    112\u001b[0m \u001b[1;33m\u001b[0m\u001b[0m\n\u001b[0;32m    113\u001b[0m \u001b[1;32mdef\u001b[0m \u001b[0msumIte\u001b[0m\u001b[1;33m(\u001b[0m\u001b[0mite\u001b[0m\u001b[1;33m,\u001b[0m \u001b[0mfill_value\u001b[0m\u001b[1;33m=\u001b[0m\u001b[1;36m0\u001b[0m\u001b[1;33m)\u001b[0m\u001b[1;33m:\u001b[0m\u001b[1;33m\u001b[0m\u001b[1;33m\u001b[0m\u001b[0m\n\u001b[1;32m--> 114\u001b[1;33m         \u001b[1;32mreturn\u001b[0m \u001b[0mreduce\u001b[0m\u001b[1;33m(\u001b[0m\u001b[1;32mlambda\u001b[0m \u001b[0mx\u001b[0m\u001b[1;33m,\u001b[0m\u001b[0my\u001b[0m\u001b[1;33m:\u001b[0m \u001b[0msparseAdd\u001b[0m\u001b[1;33m(\u001b[0m\u001b[0mx\u001b[0m\u001b[1;33m,\u001b[0m\u001b[0my\u001b[0m\u001b[1;33m,\u001b[0m\u001b[0mfill_value\u001b[0m\u001b[1;33m=\u001b[0m\u001b[0mfill_value\u001b[0m\u001b[1;33m)\u001b[0m\u001b[1;33m,\u001b[0m \u001b[0mite\u001b[0m\u001b[1;33m)\u001b[0m\u001b[1;33m\u001b[0m\u001b[1;33m\u001b[0m\u001b[0m\n\u001b[0m\u001b[0;32m    115\u001b[0m \u001b[1;33m\u001b[0m\u001b[0m\n\u001b[0;32m    116\u001b[0m \u001b[1;32mdef\u001b[0m \u001b[0mmaxIte\u001b[0m\u001b[1;33m(\u001b[0m\u001b[0mite\u001b[0m\u001b[1;33m)\u001b[0m\u001b[1;33m:\u001b[0m\u001b[1;33m\u001b[0m\u001b[1;33m\u001b[0m\u001b[0m\n",
      "\u001b[1;32m~\\Documents\\GitHub\\lpCompiler\\py\\base.py\u001b[0m in \u001b[0;36m<lambda>\u001b[1;34m(x, y)\u001b[0m\n\u001b[0;32m    112\u001b[0m \u001b[1;33m\u001b[0m\u001b[0m\n\u001b[0;32m    113\u001b[0m \u001b[1;32mdef\u001b[0m \u001b[0msumIte\u001b[0m\u001b[1;33m(\u001b[0m\u001b[0mite\u001b[0m\u001b[1;33m,\u001b[0m \u001b[0mfill_value\u001b[0m\u001b[1;33m=\u001b[0m\u001b[1;36m0\u001b[0m\u001b[1;33m)\u001b[0m\u001b[1;33m:\u001b[0m\u001b[1;33m\u001b[0m\u001b[1;33m\u001b[0m\u001b[0m\n\u001b[1;32m--> 114\u001b[1;33m         \u001b[1;32mreturn\u001b[0m \u001b[0mreduce\u001b[0m\u001b[1;33m(\u001b[0m\u001b[1;32mlambda\u001b[0m \u001b[0mx\u001b[0m\u001b[1;33m,\u001b[0m\u001b[0my\u001b[0m\u001b[1;33m:\u001b[0m \u001b[0msparseAdd\u001b[0m\u001b[1;33m(\u001b[0m\u001b[0mx\u001b[0m\u001b[1;33m,\u001b[0m\u001b[0my\u001b[0m\u001b[1;33m,\u001b[0m\u001b[0mfill_value\u001b[0m\u001b[1;33m=\u001b[0m\u001b[0mfill_value\u001b[0m\u001b[1;33m)\u001b[0m\u001b[1;33m,\u001b[0m \u001b[0mite\u001b[0m\u001b[1;33m)\u001b[0m\u001b[1;33m\u001b[0m\u001b[1;33m\u001b[0m\u001b[0m\n\u001b[0m\u001b[0;32m    115\u001b[0m \u001b[1;33m\u001b[0m\u001b[0m\n\u001b[0;32m    116\u001b[0m \u001b[1;32mdef\u001b[0m \u001b[0mmaxIte\u001b[0m\u001b[1;33m(\u001b[0m\u001b[0mite\u001b[0m\u001b[1;33m)\u001b[0m\u001b[1;33m:\u001b[0m\u001b[1;33m\u001b[0m\u001b[1;33m\u001b[0m\u001b[0m\n",
      "\u001b[1;32m~\\Documents\\GitHub\\lpCompiler\\py\\base.py\u001b[0m in \u001b[0;36msparseAdd\u001b[1;34m(x, y, fill_value)\u001b[0m\n\u001b[0;32m     81\u001b[0m                 \u001b[1;31m#       return x.add(y, fill_value = fill_value)\u001b[0m\u001b[1;33m\u001b[0m\u001b[1;33m\u001b[0m\u001b[0m\n\u001b[0;32m     82\u001b[0m                 \u001b[1;32melse\u001b[0m\u001b[1;33m:\u001b[0m\u001b[1;33m\u001b[0m\u001b[1;33m\u001b[0m\u001b[0m\n\u001b[1;32m---> 83\u001b[1;33m                         \u001b[1;32mreturn\u001b[0m \u001b[0msparseBroadcast\u001b[0m\u001b[1;33m(\u001b[0m\u001b[0mx\u001b[0m\u001b[1;33m,\u001b[0m \u001b[0my\u001b[0m\u001b[1;33m)\u001b[0m\u001b[1;33m+\u001b[0m\u001b[0msparseBroadcast\u001b[0m\u001b[1;33m(\u001b[0m\u001b[0my\u001b[0m\u001b[1;33m,\u001b[0m\u001b[0mx\u001b[0m\u001b[1;33m)\u001b[0m\u001b[1;33m\u001b[0m\u001b[1;33m\u001b[0m\u001b[0m\n\u001b[0m\u001b[0;32m     84\u001b[0m         \u001b[1;32melse\u001b[0m\u001b[1;33m:\u001b[0m\u001b[1;33m\u001b[0m\u001b[1;33m\u001b[0m\u001b[0m\n\u001b[0;32m     85\u001b[0m                 \u001b[1;32mreturn\u001b[0m \u001b[0mx\u001b[0m\u001b[1;33m+\u001b[0m\u001b[0my\u001b[0m\u001b[1;33m\u001b[0m\u001b[1;33m\u001b[0m\u001b[0m\n",
      "\u001b[1;32m~\\Documents\\GitHub\\lpCompiler\\py\\base.py\u001b[0m in \u001b[0;36msparseBroadcast\u001b[1;34m(x, y, fill_value)\u001b[0m\n\u001b[0;32m     66\u001b[0m                         \u001b[1;32mreturn\u001b[0m \u001b[0msparseSeries\u001b[0m\u001b[1;33m(\u001b[0m\u001b[0mx\u001b[0m\u001b[1;33m,\u001b[0m \u001b[0mindex\u001b[0m \u001b[1;33m=\u001b[0m \u001b[0mpyDatabases\u001b[0m\u001b[1;33m.\u001b[0m\u001b[0mgetIndex\u001b[0m\u001b[1;33m(\u001b[0m\u001b[0my\u001b[0m\u001b[1;33m)\u001b[0m\u001b[1;33m,\u001b[0m \u001b[0mfill_value\u001b[0m \u001b[1;33m=\u001b[0m \u001b[0mfill_value\u001b[0m\u001b[1;33m)\u001b[0m\u001b[1;33m\u001b[0m\u001b[1;33m\u001b[0m\u001b[0m\n\u001b[0;32m     67\u001b[0m                 \u001b[1;32melif\u001b[0m \u001b[0mset\u001b[0m\u001b[1;33m(\u001b[0m\u001b[0mpyDatabases\u001b[0m\u001b[1;33m.\u001b[0m\u001b[0mgetDomains\u001b[0m\u001b[1;33m(\u001b[0m\u001b[0mx\u001b[0m\u001b[1;33m)\u001b[0m\u001b[1;33m)\u001b[0m\u001b[1;33m.\u001b[0m\u001b[0mintersection\u001b[0m\u001b[1;33m(\u001b[0m\u001b[0mset\u001b[0m\u001b[1;33m(\u001b[0m\u001b[0mpyDatabases\u001b[0m\u001b[1;33m.\u001b[0m\u001b[0mgetDomains\u001b[0m\u001b[1;33m(\u001b[0m\u001b[0my\u001b[0m\u001b[1;33m)\u001b[0m\u001b[1;33m)\u001b[0m\u001b[1;33m)\u001b[0m\u001b[1;33m:\u001b[0m\u001b[1;33m\u001b[0m\u001b[1;33m\u001b[0m\u001b[0m\n\u001b[1;32m---> 68\u001b[1;33m                         \u001b[1;32mreturn\u001b[0m \u001b[0mx\u001b[0m\u001b[1;33m.\u001b[0m\u001b[0madd\u001b[0m\u001b[1;33m(\u001b[0m\u001b[0msparseSeries\u001b[0m\u001b[1;33m(\u001b[0m\u001b[1;36m0\u001b[0m\u001b[1;33m,\u001b[0m \u001b[0mindex\u001b[0m \u001b[1;33m=\u001b[0m \u001b[0mpyDatabases\u001b[0m\u001b[1;33m.\u001b[0m\u001b[0mgetIndex\u001b[0m\u001b[1;33m(\u001b[0m\u001b[0my\u001b[0m\u001b[1;33m)\u001b[0m\u001b[1;33m)\u001b[0m\u001b[1;33m,\u001b[0m \u001b[0mfill_value\u001b[0m \u001b[1;33m=\u001b[0m \u001b[0mfill_value\u001b[0m\u001b[1;33m)\u001b[0m\u001b[1;33m\u001b[0m\u001b[1;33m\u001b[0m\u001b[0m\n\u001b[0m\u001b[0;32m     69\u001b[0m                 \u001b[1;32melse\u001b[0m\u001b[1;33m:\u001b[0m\u001b[1;33m\u001b[0m\u001b[1;33m\u001b[0m\u001b[0m\n\u001b[0;32m     70\u001b[0m                         \u001b[1;32mreturn\u001b[0m \u001b[0msparseSeries\u001b[0m\u001b[1;33m(\u001b[0m\u001b[1;36m0\u001b[0m\u001b[1;33m,\u001b[0m \u001b[0mindex\u001b[0m \u001b[1;33m=\u001b[0m \u001b[0mpyDatabases\u001b[0m\u001b[1;33m.\u001b[0m\u001b[0mcartesianProductIndex\u001b[0m\u001b[1;33m(\u001b[0m\u001b[1;33m[\u001b[0m\u001b[0mpyDatabases\u001b[0m\u001b[1;33m.\u001b[0m\u001b[0mgetIndex\u001b[0m\u001b[1;33m(\u001b[0m\u001b[0mx\u001b[0m\u001b[1;33m)\u001b[0m\u001b[1;33m,\u001b[0m \u001b[0mpyDatabases\u001b[0m\u001b[1;33m.\u001b[0m\u001b[0mgetIndex\u001b[0m\u001b[1;33m(\u001b[0m\u001b[0my\u001b[0m\u001b[1;33m)\u001b[0m\u001b[1;33m]\u001b[0m\u001b[1;33m)\u001b[0m\u001b[1;33m)\u001b[0m\u001b[1;33m.\u001b[0m\u001b[0madd\u001b[0m\u001b[1;33m(\u001b[0m\u001b[0mx\u001b[0m\u001b[1;33m,\u001b[0m \u001b[0mfill_value\u001b[0m\u001b[1;33m=\u001b[0m\u001b[0mfill_value\u001b[0m\u001b[1;33m)\u001b[0m\u001b[1;33m\u001b[0m\u001b[1;33m\u001b[0m\u001b[0m\n",
      "\u001b[1;32m~\\Anaconda3\\lib\\site-packages\\pandas\\core\\ops\\__init__.py\u001b[0m in \u001b[0;36mflex_wrapper\u001b[1;34m(self, other, level, fill_value, axis)\u001b[0m\n\u001b[0;32m    183\u001b[0m \u001b[1;33m\u001b[0m\u001b[0m\n\u001b[0;32m    184\u001b[0m         \u001b[1;32mif\u001b[0m \u001b[0misinstance\u001b[0m\u001b[1;33m(\u001b[0m\u001b[0mother\u001b[0m\u001b[1;33m,\u001b[0m \u001b[0mABCSeries\u001b[0m\u001b[1;33m)\u001b[0m\u001b[1;33m:\u001b[0m\u001b[1;33m\u001b[0m\u001b[1;33m\u001b[0m\u001b[0m\n\u001b[1;32m--> 185\u001b[1;33m             \u001b[1;32mreturn\u001b[0m \u001b[0mself\u001b[0m\u001b[1;33m.\u001b[0m\u001b[0m_binop\u001b[0m\u001b[1;33m(\u001b[0m\u001b[0mother\u001b[0m\u001b[1;33m,\u001b[0m \u001b[0mop\u001b[0m\u001b[1;33m,\u001b[0m \u001b[0mlevel\u001b[0m\u001b[1;33m=\u001b[0m\u001b[0mlevel\u001b[0m\u001b[1;33m,\u001b[0m \u001b[0mfill_value\u001b[0m\u001b[1;33m=\u001b[0m\u001b[0mfill_value\u001b[0m\u001b[1;33m)\u001b[0m\u001b[1;33m\u001b[0m\u001b[1;33m\u001b[0m\u001b[0m\n\u001b[0m\u001b[0;32m    186\u001b[0m         \u001b[1;32melif\u001b[0m \u001b[0misinstance\u001b[0m\u001b[1;33m(\u001b[0m\u001b[0mother\u001b[0m\u001b[1;33m,\u001b[0m \u001b[1;33m(\u001b[0m\u001b[0mnp\u001b[0m\u001b[1;33m.\u001b[0m\u001b[0mndarray\u001b[0m\u001b[1;33m,\u001b[0m \u001b[0mlist\u001b[0m\u001b[1;33m,\u001b[0m \u001b[0mtuple\u001b[0m\u001b[1;33m)\u001b[0m\u001b[1;33m)\u001b[0m\u001b[1;33m:\u001b[0m\u001b[1;33m\u001b[0m\u001b[1;33m\u001b[0m\u001b[0m\n\u001b[0;32m    187\u001b[0m             \u001b[1;32mif\u001b[0m \u001b[0mlen\u001b[0m\u001b[1;33m(\u001b[0m\u001b[0mother\u001b[0m\u001b[1;33m)\u001b[0m \u001b[1;33m!=\u001b[0m \u001b[0mlen\u001b[0m\u001b[1;33m(\u001b[0m\u001b[0mself\u001b[0m\u001b[1;33m)\u001b[0m\u001b[1;33m:\u001b[0m\u001b[1;33m\u001b[0m\u001b[1;33m\u001b[0m\u001b[0m\n",
      "\u001b[1;32m~\\Anaconda3\\lib\\site-packages\\pandas\\core\\series.py\u001b[0m in \u001b[0;36m_binop\u001b[1;34m(self, other, func, level, fill_value)\u001b[0m\n\u001b[0;32m   3184\u001b[0m             \u001b[0mthis\u001b[0m\u001b[1;33m,\u001b[0m \u001b[0mother\u001b[0m \u001b[1;33m=\u001b[0m \u001b[0mself\u001b[0m\u001b[1;33m.\u001b[0m\u001b[0malign\u001b[0m\u001b[1;33m(\u001b[0m\u001b[0mother\u001b[0m\u001b[1;33m,\u001b[0m \u001b[0mlevel\u001b[0m\u001b[1;33m=\u001b[0m\u001b[0mlevel\u001b[0m\u001b[1;33m,\u001b[0m \u001b[0mjoin\u001b[0m\u001b[1;33m=\u001b[0m\u001b[1;34m\"outer\"\u001b[0m\u001b[1;33m,\u001b[0m \u001b[0mcopy\u001b[0m\u001b[1;33m=\u001b[0m\u001b[1;32mFalse\u001b[0m\u001b[1;33m)\u001b[0m\u001b[1;33m\u001b[0m\u001b[1;33m\u001b[0m\u001b[0m\n\u001b[0;32m   3185\u001b[0m \u001b[1;33m\u001b[0m\u001b[0m\n\u001b[1;32m-> 3186\u001b[1;33m         \u001b[0mthis_vals\u001b[0m\u001b[1;33m,\u001b[0m \u001b[0mother_vals\u001b[0m \u001b[1;33m=\u001b[0m \u001b[0mops\u001b[0m\u001b[1;33m.\u001b[0m\u001b[0mfill_binop\u001b[0m\u001b[1;33m(\u001b[0m\u001b[0mthis\u001b[0m\u001b[1;33m.\u001b[0m\u001b[0m_values\u001b[0m\u001b[1;33m,\u001b[0m \u001b[0mother\u001b[0m\u001b[1;33m.\u001b[0m\u001b[0m_values\u001b[0m\u001b[1;33m,\u001b[0m \u001b[0mfill_value\u001b[0m\u001b[1;33m)\u001b[0m\u001b[1;33m\u001b[0m\u001b[1;33m\u001b[0m\u001b[0m\n\u001b[0m\u001b[0;32m   3187\u001b[0m \u001b[1;33m\u001b[0m\u001b[0m\n\u001b[0;32m   3188\u001b[0m         \u001b[1;32mwith\u001b[0m \u001b[0mnp\u001b[0m\u001b[1;33m.\u001b[0m\u001b[0merrstate\u001b[0m\u001b[1;33m(\u001b[0m\u001b[0mall\u001b[0m\u001b[1;33m=\u001b[0m\u001b[1;34m\"ignore\"\u001b[0m\u001b[1;33m)\u001b[0m\u001b[1;33m:\u001b[0m\u001b[1;33m\u001b[0m\u001b[1;33m\u001b[0m\u001b[0m\n",
      "\u001b[1;32m~\\Anaconda3\\lib\\site-packages\\pandas\\core\\ops\\__init__.py\u001b[0m in \u001b[0;36mfill_binop\u001b[1;34m(left, right, fill_value)\u001b[0m\n\u001b[0;32m    141\u001b[0m             \u001b[1;31m# Avoid making a copy if we can\u001b[0m\u001b[1;33m\u001b[0m\u001b[1;33m\u001b[0m\u001b[0m\n\u001b[0;32m    142\u001b[0m             \u001b[0mright\u001b[0m \u001b[1;33m=\u001b[0m \u001b[0mright\u001b[0m\u001b[1;33m.\u001b[0m\u001b[0mcopy\u001b[0m\u001b[1;33m(\u001b[0m\u001b[1;33m)\u001b[0m\u001b[1;33m\u001b[0m\u001b[1;33m\u001b[0m\u001b[0m\n\u001b[1;32m--> 143\u001b[1;33m             \u001b[0mright\u001b[0m\u001b[1;33m[\u001b[0m\u001b[0mright_mask\u001b[0m \u001b[1;33m&\u001b[0m \u001b[0mmask\u001b[0m\u001b[1;33m]\u001b[0m \u001b[1;33m=\u001b[0m \u001b[0mfill_value\u001b[0m\u001b[1;33m\u001b[0m\u001b[1;33m\u001b[0m\u001b[0m\n\u001b[0m\u001b[0;32m    144\u001b[0m \u001b[1;33m\u001b[0m\u001b[0m\n\u001b[0;32m    145\u001b[0m     \u001b[1;32mreturn\u001b[0m \u001b[0mleft\u001b[0m\u001b[1;33m,\u001b[0m \u001b[0mright\u001b[0m\u001b[1;33m\u001b[0m\u001b[1;33m\u001b[0m\u001b[0m\n",
      "\u001b[1;32m~\\Anaconda3\\lib\\site-packages\\pandas\\core\\arrays\\sparse\\array.py\u001b[0m in \u001b[0;36m__setitem__\u001b[1;34m(self, key, value)\u001b[0m\n\u001b[0;32m    614\u001b[0m         \u001b[1;31m# ExtensionBlock.where\u001b[0m\u001b[1;33m\u001b[0m\u001b[1;33m\u001b[0m\u001b[0m\n\u001b[0;32m    615\u001b[0m         \u001b[0mmsg\u001b[0m \u001b[1;33m=\u001b[0m \u001b[1;34m\"SparseArray does not support item assignment via setitem\"\u001b[0m\u001b[1;33m\u001b[0m\u001b[1;33m\u001b[0m\u001b[0m\n\u001b[1;32m--> 616\u001b[1;33m         \u001b[1;32mraise\u001b[0m \u001b[0mTypeError\u001b[0m\u001b[1;33m(\u001b[0m\u001b[0mmsg\u001b[0m\u001b[1;33m)\u001b[0m\u001b[1;33m\u001b[0m\u001b[1;33m\u001b[0m\u001b[0m\n\u001b[0m\u001b[0;32m    617\u001b[0m \u001b[1;33m\u001b[0m\u001b[0m\n\u001b[0;32m    618\u001b[0m     \u001b[1;33m@\u001b[0m\u001b[0mclassmethod\u001b[0m\u001b[1;33m\u001b[0m\u001b[1;33m\u001b[0m\u001b[0m\n",
      "\u001b[1;31mTypeError\u001b[0m: SparseArray does not support item assignment via setitem"
     ]
    }
   ],
   "source": [
    "sumIte(ite)"
   ]
  }
 ],
 "metadata": {
  "kernelspec": {
   "display_name": "Python 3 (ipykernel)",
   "language": "python",
   "name": "python3"
  },
  "language_info": {
   "codemirror_mode": {
    "name": "ipython",
    "version": 3
   },
   "file_extension": ".py",
   "mimetype": "text/x-python",
   "name": "python",
   "nbconvert_exporter": "python",
   "pygments_lexer": "ipython3",
   "version": "3.9.7"
  }
 },
 "nbformat": 4,
 "nbformat_minor": 5
}
