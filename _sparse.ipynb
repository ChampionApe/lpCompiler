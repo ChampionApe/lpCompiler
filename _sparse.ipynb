{
 "cells": [
  {
   "cell_type": "markdown",
   "id": "0277bfac-579b-4379-b57f-9e782409e958",
   "metadata": {},
   "source": [
    "*This notebook illustrates how sparse methods are used.*"
   ]
  },
  {
   "cell_type": "code",
   "execution_count": 1,
   "id": "f3c5e4ca-7350-4d78-b91b-a8e151436233",
   "metadata": {},
   "outputs": [],
   "source": [
    "%run stdPackages.ipynb"
   ]
  },
  {
   "cell_type": "markdown",
   "id": "e5b4779a-9a3d-499c-b043-16d3c8345b67",
   "metadata": {},
   "source": [
    "*Create symbols for testing purposes:*"
   ]
  },
  {
   "cell_type": "code",
   "execution_count": 2,
   "id": "f690e2e6-08ce-48ee-9d3a-6a3b5f1860fe",
   "metadata": {},
   "outputs": [],
   "source": [
    "# Create some indices:\n",
    "indices = {'x': pd.Index(range(1,11),  name = 'x'),\n",
    "           'y': pd.Index(range(11,21), name = 'y'),\n",
    "           'z': pd.Index([1,2], name = 'z')}\n",
    "indices['xy'] = pd.MultiIndex.from_arrays([indices['x'], indices['y']])\n",
    "# Add corresponding values - here just some ranges:\n",
    "symbols = {'x': sparseSeries(range(1,11), indices['x'], dtype = np.int32),\n",
    "           'y': sparseSeries(range(11,21), indices['y'], dtype=np.int32),\n",
    "           'xy':sparseSeries(range(21,31), indices['xy'], dtype=np.int32)}"
   ]
  },
  {
   "cell_type": "markdown",
   "id": "957f6a71-d2f0-4061-be99-b1a9d0ff4cd4",
   "metadata": {},
   "source": [
    "### Broadcasting"
   ]
  },
  {
   "cell_type": "markdown",
   "id": "d3527c1d-8edc-4331-b152-2c5aa12a9234",
   "metadata": {},
   "source": [
    "*We can broadcast one symbol to fit another using the ```sparseBroadcast``` method.*\n",
    "\n",
    "*Broadcast scalar (the value 1) to fit another symbols (can be an index or pandas series):*"
   ]
  },
  {
   "cell_type": "code",
   "execution_count": 3,
   "id": "db555ff6-85d7-4311-adc1-5c57517ae2c8",
   "metadata": {},
   "outputs": [
    {
     "data": {
      "text/plain": [
       "x\n",
       "1     1\n",
       "2     1\n",
       "3     1\n",
       "4     1\n",
       "5     1\n",
       "6     1\n",
       "7     1\n",
       "8     1\n",
       "9     1\n",
       "10    1\n",
       "dtype: Sparse[int32, 0]"
      ]
     },
     "execution_count": 3,
     "metadata": {},
     "output_type": "execute_result"
    }
   ],
   "source": [
    "sparseBroadcast(1, symbols['x']) # "
   ]
  },
  {
   "cell_type": "markdown",
   "id": "904eea49-c120-42c2-87dd-c2d37a776a9f",
   "metadata": {},
   "source": [
    "*Broadcast a series to another with non-overlapping domains. This returns the cartesian product index as default:*"
   ]
  },
  {
   "cell_type": "code",
   "execution_count": 4,
   "id": "f12564c1-eef6-4d0c-b8ab-b0853720f63d",
   "metadata": {},
   "outputs": [
    {
     "data": {
      "text/plain": [
       "x   y \n",
       "1   11     1\n",
       "    12     1\n",
       "    13     1\n",
       "    14     1\n",
       "    15     1\n",
       "          ..\n",
       "10  16    10\n",
       "    17    10\n",
       "    18    10\n",
       "    19    10\n",
       "    20    10\n",
       "Length: 100, dtype: Sparse[int32, 0]"
      ]
     },
     "execution_count": 4,
     "metadata": {},
     "output_type": "execute_result"
    }
   ],
   "source": [
    "sparseBroadcast(symbols['x'], symbols['y'])"
   ]
  },
  {
   "cell_type": "markdown",
   "id": "f46dce49-5496-46c1-a960-ec5e090554dd",
   "metadata": {},
   "source": [
    "*Broadcast a series to another with overlapping domain. You can add ```fill_value``` as a keyword argument for the cases with missing values:*"
   ]
  },
  {
   "cell_type": "code",
   "execution_count": 5,
   "id": "a4be6ce8-2372-42eb-8232-d9e0f3d486cd",
   "metadata": {},
   "outputs": [
    {
     "data": {
      "text/plain": [
       "x   y \n",
       "1   11     1\n",
       "2   12     2\n",
       "3   13     3\n",
       "4   14     4\n",
       "5   15     5\n",
       "6   16     6\n",
       "7   17     7\n",
       "8   18     8\n",
       "9   19     9\n",
       "10  20    10\n",
       "dtype: Sparse[int32, 0]"
      ]
     },
     "execution_count": 5,
     "metadata": {},
     "output_type": "execute_result"
    }
   ],
   "source": [
    "sparseBroadcast(symbols['x'], symbols['xy'], fill_value=0)"
   ]
  },
  {
   "cell_type": "markdown",
   "id": "fa2edd1a-0189-4110-be8b-45c21166924f",
   "metadata": {},
   "source": [
    "### Element-wise operations: "
   ]
  },
  {
   "cell_type": "markdown",
   "id": "8c0d9c5e-fc01-41e5-be6c-4d448384fbe9",
   "metadata": {},
   "source": [
    "*A few element-wise operations are coded separately (```sparseAdd```, ```sparseMult```). Other functions can be called through ```sparseFunction```:*"
   ]
  },
  {
   "cell_type": "markdown",
   "id": "c9b29a1d-f18c-45c5-85f6-66e562e5e530",
   "metadata": {},
   "source": [
    "*```sparseAdd```:*"
   ]
  },
  {
   "cell_type": "code",
   "execution_count": 6,
   "id": "648b6bf5-09c0-4be0-b6ad-87e7846eb5a4",
   "metadata": {},
   "outputs": [
    {
     "data": {
      "text/plain": [
       "x   y \n",
       "1   11    12\n",
       "    12    13\n",
       "    13    14\n",
       "    14    15\n",
       "    15    16\n",
       "          ..\n",
       "10  16    26\n",
       "    17    27\n",
       "    18    28\n",
       "    19    29\n",
       "    20    30\n",
       "Length: 100, dtype: Sparse[int32, 0]"
      ]
     },
     "execution_count": 6,
     "metadata": {},
     "output_type": "execute_result"
    }
   ],
   "source": [
    "sparseAdd(symbols['x'],symbols['y'])"
   ]
  },
  {
   "cell_type": "markdown",
   "id": "b2c6e94c-2a6e-4839-b022-f4f7a0b48273",
   "metadata": {},
   "source": [
    "*```sparseMult```:*"
   ]
  },
  {
   "cell_type": "code",
   "execution_count": 7,
   "id": "e4bfd876-92c6-49ac-a0a8-ab88a6844854",
   "metadata": {},
   "outputs": [
    {
     "data": {
      "text/plain": [
       "x   y \n",
       "1   11     1\n",
       "    12     1\n",
       "    13     1\n",
       "    14     1\n",
       "    15     1\n",
       "          ..\n",
       "10  16    10\n",
       "    17    10\n",
       "    18    10\n",
       "    19    10\n",
       "    20    10\n",
       "Length: 100, dtype: Sparse[int32, 0]"
      ]
     },
     "execution_count": 7,
     "metadata": {},
     "output_type": "execute_result"
    }
   ],
   "source": [
    "sparseBroadcast(symbols['x'],symbols['y'])"
   ]
  },
  {
   "cell_type": "code",
   "execution_count": 8,
   "id": "0dec106f-093a-449d-aa31-ce8c58105049",
   "metadata": {},
   "outputs": [
    {
     "data": {
      "text/plain": [
       "x   y \n",
       "1   11     11\n",
       "    12     12\n",
       "    13     13\n",
       "    14     14\n",
       "    15     15\n",
       "         ... \n",
       "10  16    160\n",
       "    17    170\n",
       "    18    180\n",
       "    19    190\n",
       "    20    200\n",
       "Length: 100, dtype: Sparse[int32, 0]"
      ]
     },
     "execution_count": 8,
     "metadata": {},
     "output_type": "execute_result"
    }
   ],
   "source": [
    "sparseMult(symbols['x'],symbols['y'])"
   ]
  },
  {
   "cell_type": "code",
   "execution_count": 9,
   "id": "0ab0ec4c-7fa4-48fb-bf5d-c661d06e8f0f",
   "metadata": {},
   "outputs": [],
   "source": [
    "size = 100000000"
   ]
  },
  {
   "cell_type": "code",
   "execution_count": 12,
   "id": "1cf68104-115b-4bca-bc7a-6bda73ff6eb0",
   "metadata": {},
   "outputs": [],
   "source": [
    "x = pd.Series(pd.arrays.SparseArray(np.full(size,0),fill_value=0), index = None, name ='test')"
   ]
  },
  {
   "cell_type": "code",
   "execution_count": 16,
   "id": "f0b02867-0599-456f-bb8c-81b7c0903495",
   "metadata": {},
   "outputs": [
    {
     "data": {
      "text/plain": [
       "0           0\n",
       "1           0\n",
       "2           0\n",
       "3           0\n",
       "4           0\n",
       "           ..\n",
       "99999995    0\n",
       "99999996    0\n",
       "99999997    0\n",
       "99999998    0\n",
       "99999999    0\n",
       "Name: test, Length: 100000000, dtype: Sparse[int32, 0]"
      ]
     },
     "execution_count": 16,
     "metadata": {},
     "output_type": "execute_result"
    }
   ],
   "source": [
    "x"
   ]
  }
 ],
 "metadata": {
  "kernelspec": {
   "display_name": "Python 3 (ipykernel)",
   "language": "python",
   "name": "python3"
  },
  "language_info": {
   "codemirror_mode": {
    "name": "ipython",
    "version": 3
   },
   "file_extension": ".py",
   "mimetype": "text/x-python",
   "name": "python",
   "nbconvert_exporter": "python",
   "pygments_lexer": "ipython3",
   "version": "3.9.7"
  }
 },
 "nbformat": 4,
 "nbformat_minor": 5
}
