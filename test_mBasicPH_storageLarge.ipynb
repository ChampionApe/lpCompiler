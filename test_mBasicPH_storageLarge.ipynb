{
 "cells": [
  {
   "cell_type": "code",
   "execution_count": 1,
   "id": "c3a4d3a7-37ac-468b-9746-df6b348f82ce",
   "metadata": {},
   "outputs": [],
   "source": [
    "%run stdPackages.ipynb"
   ]
  },
  {
   "cell_type": "markdown",
   "id": "1ee21e43-5fc4-4b33-a134-4bf0b891650a",
   "metadata": {},
   "source": [
    "# Read database"
   ]
  },
  {
   "cell_type": "code",
   "execution_count": 2,
   "id": "b18a92a1-fb9f-462a-aecc-cfee9fc5192a",
   "metadata": {},
   "outputs": [],
   "source": [
    "from pyDbs import read, readSets, broadcast\n",
    "kwargs = {'variables': ['Fundamentals', 'LoadVariables', 'TransmissionLines', 'GeneratorsVariables','StorageVariables','Regulation'],\n",
    "        'maps': ['LoadMaps','GeneratorsMaps','StorageMaps'],\n",
    "        'variable2D': ['HourlyVariation'],\n",
    "        'scalars': ['Scalars']}\n",
    "db = read.dbFromWB(os.path.join(d['data'],'mBasicPH_storageLarge.xlsx'), kwargs)\n",
    "readSets(db)"
   ]
  },
  {
   "cell_type": "markdown",
   "id": "112412d9-1fd0-470f-b359-d293cee38da9",
   "metadata": {},
   "source": [
    "This model takes roughly 45 seconds to solve. This primarily comes from: \n",
    "1. ```self.initBlocks``` (16 seconds)\n",
    "2. ```self.compileParameters``` (6-7 seconds)\n",
    "3. ```self.getDenseArgs``` (8 seconds)\n",
    "4. ```self.postSolve``` (roughly 6 seconds)\n",
    "\n",
    "Solution time requires roughly 5 seconds."
   ]
  },
  {
   "cell_type": "code",
   "execution_count": 3,
   "id": "8a893d00-d60d-4f26-aa41-fd0410c5a831",
   "metadata": {},
   "outputs": [
    {
     "data": {
      "text/plain": [
       "{'setup': 0.43952059745788574,\n",
       " 'initBlocks': 14.064780235290527,\n",
       " 'compileParameters': 6.258668661117554,\n",
       " 'settingsFromCompiled': 0.0,\n",
       " 'inferGlobalDomains': 1.7578227519989014,\n",
       " 'getDenseArgs': 8.087685346603394,\n",
       " 'lp_args': 2.4789533615112305,\n",
       " 'sol': 5.159196138381958,\n",
       " 'postSolve': 6.019216537475586}"
      ]
     },
     "execution_count": 3,
     "metadata": {},
     "output_type": "execute_result"
    }
   ],
   "source": [
    "import time\n",
    "times = {}\n",
    "t0 = time.time()\n",
    "# Initialize model:\n",
    "m = mBasicPH_storage.mSimple(db) # initialize using the database 'db' from above.\n",
    "times['setup'] = time.time()-t0\n",
    "# Initialize blocks:\n",
    "m.preSolve()\n",
    "m.initBlocks()\n",
    "times['initBlocks'] = time.time()-t0-sum(times.values())\n",
    "# Compile model:\n",
    "m.blocks.compileParameters()\n",
    "times['compileParameters'] = time.time()-t0-sum(times.values())\n",
    "m.blocks.settingsFromCompiled()\n",
    "times['settingsFromCompiled'] = time.time()-t0-sum(times.values())\n",
    "m.blocks.inferGlobalDomains()\n",
    "times['inferGlobalDomains'] = time.time()-t0-sum(times.values())\n",
    "m.blocks.getDenseArgs()\n",
    "times['getDenseArgs'] = time.time()-t0-sum(times.values())\n",
    "args = m.blocks.lp_args\n",
    "times['lp_args'] = time.time()-t0-sum(times.values())\n",
    "sol = optimize.linprog(method = m.method, **args)\n",
    "times['sol'] = time.time()-t0-sum(times.values())\n",
    "m.postSolve(sol)\n",
    "times['postSolve'] = time.time()-t0-sum(times.values())\n",
    "times"
   ]
  }
 ],
 "metadata": {
  "kernelspec": {
   "display_name": "Python 3 (ipykernel)",
   "language": "python",
   "name": "python3"
  },
  "language_info": {
   "codemirror_mode": {
    "name": "ipython",
    "version": 3
   },
   "file_extension": ".py",
   "mimetype": "text/x-python",
   "name": "python",
   "nbconvert_exporter": "python",
   "pygments_lexer": "ipython3",
   "version": "3.9.7"
  }
 },
 "nbformat": 4,
 "nbformat_minor": 5
}
