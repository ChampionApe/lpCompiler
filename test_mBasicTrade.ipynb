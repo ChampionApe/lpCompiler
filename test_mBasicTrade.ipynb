{
 "cells": [
  {
   "cell_type": "code",
   "execution_count": 1,
   "id": "c3a4d3a7-37ac-468b-9746-df6b348f82ce",
   "metadata": {},
   "outputs": [],
   "source": [
    "%run stdPackages.ipynb"
   ]
  },
  {
   "cell_type": "markdown",
   "id": "1ee21e43-5fc4-4b33-a134-4bf0b891650a",
   "metadata": {},
   "source": [
    "# Read database"
   ]
  },
  {
   "cell_type": "code",
   "execution_count": 2,
   "id": "b18a92a1-fb9f-462a-aecc-cfee9fc5192a",
   "metadata": {},
   "outputs": [],
   "source": [
    "from pyDbs import read, readSets, broadcast\n",
    "kwargs = {'variables': ['Fundamentals', 'Load', 'Generators_Other','TL'], \n",
    "        'variable2D': ['Generators_FuelMix','HourlyVariation'],\n",
    "        'scalars': ['Scalars'],\n",
    "        'maps': ['Generators_Categories','Load_Categories']}\n",
    "db = read.dbFromWB(os.path.join(d['data'],'mBasicTrade.xlsx'), kwargs)\n",
    "db.updateAlias(alias=[('h','h_alias')])\n",
    "readSets(db)"
   ]
  },
  {
   "cell_type": "markdown",
   "id": "ad715066-3ba1-49ff-bc33-a6d78a2db837",
   "metadata": {},
   "source": [
    "**Basic model:**"
   ]
  },
  {
   "cell_type": "code",
   "execution_count": 3,
   "id": "07ac3c68-7095-4ccb-947c-56181e196780",
   "metadata": {},
   "outputs": [
    {
     "name": "stdout",
     "output_type": "stream",
     "text": [
      "Solution status 0: Optimization terminated successfully. (HiGHS Status 7: Optimal)\n"
     ]
    }
   ],
   "source": [
    "m = mBasicTrade.mSimple(db) # initialize using the database 'db' from above.\n",
    "m() # standard steps"
   ]
  },
  {
   "cell_type": "markdown",
   "id": "4c680bca-f654-45fb-9e9a-7cbb06106e36",
   "metadata": {},
   "source": [
    "**Emissions cap:**"
   ]
  },
  {
   "cell_type": "markdown",
   "id": "e1f999cc-ec5e-4104-8cfb-66a69ffcb43d",
   "metadata": {},
   "source": [
    "With one common cap:"
   ]
  },
  {
   "cell_type": "code",
   "execution_count": 4,
   "id": "0a6156eb-dea5-42ee-b376-1860a237caa3",
   "metadata": {},
   "outputs": [
    {
     "name": "stdout",
     "output_type": "stream",
     "text": [
      "Solution status 0: Optimization terminated successfully. (HiGHS Status 7: Optimal)\n"
     ]
    }
   ],
   "source": [
    "m = mBasicTrade.mEmissionCap(db)\n",
    "m()"
   ]
  },
  {
   "cell_type": "markdown",
   "id": "ca013acf-94fc-4253-aa2b-c3d3be3ea0d1",
   "metadata": {},
   "source": [
    "With separate caps:"
   ]
  },
  {
   "cell_type": "code",
   "execution_count": 5,
   "id": "7dcb7a38-b061-4678-bc66-c33035caf9f1",
   "metadata": {},
   "outputs": [
    {
     "name": "stdout",
     "output_type": "stream",
     "text": [
      "Solution status 0: Optimization terminated successfully. (HiGHS Status 7: Optimal)\n"
     ]
    }
   ],
   "source": [
    "m = mBasicTrade.mEmissionCap(db, commonCap = False)\n",
    "m()"
   ]
  },
  {
   "cell_type": "markdown",
   "id": "48d6f9db-f4f7-4976-a0ed-fa47ec2280d6",
   "metadata": {},
   "source": [
    "**RES:**"
   ]
  },
  {
   "cell_type": "code",
   "execution_count": 6,
   "id": "aa30c6c0-50de-4900-beba-b5839791fcac",
   "metadata": {},
   "outputs": [
    {
     "name": "stdout",
     "output_type": "stream",
     "text": [
      "Solution status 0: Optimization terminated successfully. (HiGHS Status 7: Optimal)\n"
     ]
    }
   ],
   "source": [
    "m = mBasicTrade.mRES(db)\n",
    "m()"
   ]
  },
  {
   "cell_type": "markdown",
   "id": "d03e972d-0e1f-4095-b90a-b6ed668955b2",
   "metadata": {},
   "source": [
    "With separate geographic caps:"
   ]
  },
  {
   "cell_type": "code",
   "execution_count": 7,
   "id": "a6895049-545b-455a-9942-b84374a669c1",
   "metadata": {},
   "outputs": [
    {
     "name": "stdout",
     "output_type": "stream",
     "text": [
      "Solution status 0: Optimization terminated successfully. (HiGHS Status 7: Optimal)\n"
     ]
    }
   ],
   "source": [
    "m.commonCap = False\n",
    "m()"
   ]
  }
 ],
 "metadata": {
  "kernelspec": {
   "display_name": "Python 3 (ipykernel)",
   "language": "python",
   "name": "python3"
  },
  "language_info": {
   "codemirror_mode": {
    "name": "ipython",
    "version": 3
   },
   "file_extension": ".py",
   "mimetype": "text/x-python",
   "name": "python",
   "nbconvert_exporter": "python",
   "pygments_lexer": "ipython3",
   "version": "3.9.7"
  }
 },
 "nbformat": 4,
 "nbformat_minor": 5
}
