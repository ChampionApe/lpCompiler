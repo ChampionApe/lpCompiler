{
 "cells": [
  {
   "cell_type": "code",
   "execution_count": 1,
   "id": "5c9b55ce-b88e-448d-99b4-bfe94953bee0",
   "metadata": {},
   "outputs": [],
   "source": [
    "%run stdPackages.ipynb"
   ]
  },
  {
   "cell_type": "markdown",
   "id": "71cd7c16-f35d-49d0-ac3f-22f5b6367987",
   "metadata": {},
   "source": [
    "# Read database"
   ]
  },
  {
   "cell_type": "code",
   "execution_count": 2,
   "id": "1e999bc1-4da4-4121-a3f5-d836e118f1e9",
   "metadata": {},
   "outputs": [],
   "source": [
    "from pydb import read, readSets, broadcast\n",
    "kwargs = {'variables': ['Fundamentals', 'LoadVariables', 'TransmissionLines', 'GeneratorsVariables','Regulation'],\n",
    "        'maps': ['LoadMaps','GeneratorsMaps'],\n",
    "        'variable2D': ['HourlyVariation'],\n",
    "        'scalars': ['Scalars']}\n",
    "db = read.dbFromWB(os.path.join(d['data'],'mGFTradeLarge.xlsx'), kwargs)\n",
    "readSets(db)"
   ]
  },
  {
   "cell_type": "markdown",
   "id": "49354c8f-d107-4833-b8ee-93e92e5954ac",
   "metadata": {},
   "source": [
    "This is very difficult for the solver (we should consider setting upper bounds on each plant instead of grouping plants - this should simplify things)"
   ]
  },
  {
   "cell_type": "code",
   "execution_count": 3,
   "id": "faf25a3d-8032-42f0-8a7b-505a1cc2384e",
   "metadata": {},
   "outputs": [
    {
     "data": {
      "text/plain": [
       "{'setup': 0.18717479705810547,\n",
       " 'initBlocks': 1.9276671409606934,\n",
       " 'compileParameters': 3.1577529907226562,\n",
       " 'settingsFromCompiled': 0.0,\n",
       " 'inferGlobalDomains': 0.5752267837524414,\n",
       " 'getDenseArgs': 2.414843797683716,\n",
       " 'lp_args': 1.5613141059875488,\n",
       " 'sol': 133.14674639701843,\n",
       " 'postSolve': 1.9840750694274902}"
      ]
     },
     "execution_count": 3,
     "metadata": {},
     "output_type": "execute_result"
    }
   ],
   "source": [
    "import time\n",
    "times = {}\n",
    "t0 = time.time()\n",
    "# Initialize model:\n",
    "m = mGFTrade.mSimple(db) # initialize using the database 'db' from above.\n",
    "times['setup'] = time.time()-t0\n",
    "# Initialize blocks:\n",
    "m.preSolve()\n",
    "m.initBlocks()\n",
    "times['initBlocks'] = time.time()-t0-sum(times.values())\n",
    "# Compile model:\n",
    "m.blocks.compileParameters()\n",
    "times['compileParameters'] = time.time()-t0-sum(times.values())\n",
    "m.blocks.settingsFromCompiled()\n",
    "times['settingsFromCompiled'] = time.time()-t0-sum(times.values())\n",
    "m.blocks.inferGlobalDomains()\n",
    "times['inferGlobalDomains'] = time.time()-t0-sum(times.values())\n",
    "m.blocks.getDenseArgs()\n",
    "times['getDenseArgs'] = time.time()-t0-sum(times.values())\n",
    "args = m.blocks.lp_args\n",
    "times['lp_args'] = time.time()-t0-sum(times.values())\n",
    "sol = optimize.linprog(method = m.method, **args)\n",
    "times['sol'] = time.time()-t0-sum(times.values())\n",
    "m.postSolve(sol)\n",
    "times['postSolve'] = time.time()-t0-sum(times.values())\n",
    "times"
   ]
  }
 ],
 "metadata": {
  "kernelspec": {
   "display_name": "Python 3 (ipykernel)",
   "language": "python",
   "name": "python3"
  },
  "language_info": {
   "codemirror_mode": {
    "name": "ipython",
    "version": 3
   },
   "file_extension": ".py",
   "mimetype": "text/x-python",
   "name": "python",
   "nbconvert_exporter": "python",
   "pygments_lexer": "ipython3",
   "version": "3.9.7"
  }
 },
 "nbformat": 4,
 "nbformat_minor": 5
}
