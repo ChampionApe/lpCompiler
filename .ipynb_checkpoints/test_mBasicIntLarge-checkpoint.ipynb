{
 "cells": [
  {
   "cell_type": "code",
   "execution_count": 1,
   "id": "e5bc0671-eee4-438f-9321-b72c07da8418",
   "metadata": {},
   "outputs": [],
   "source": [
    "%run stdPackages.ipynb"
   ]
  },
  {
   "cell_type": "markdown",
   "id": "83f33cae-1b36-4419-9994-fde82f615a4a",
   "metadata": {},
   "source": [
    "# Read database"
   ]
  },
  {
   "cell_type": "code",
   "execution_count": 2,
   "id": "29a0b295-ff4e-4303-aeb4-e4c5269155ef",
   "metadata": {},
   "outputs": [],
   "source": [
    "from pydb import read, readSets, broadcast\n",
    "kwargs = {'variables': ['Fundamentals', 'Load', 'Generators_Other'], \n",
    "        'variable2D': ['Generators_FuelMix','HourlyVariation'],\n",
    "        'scalars': ['Scalars'],\n",
    "        'maps': ['Generators_Categories']}\n",
    "db = read.dbFromWB(os.path.join(d['data'],'mBasicIntLarge.xlsx'), kwargs)\n",
    "db.updateAlias(alias=[('h','h_alias')])\n",
    "readSets(db)"
   ]
  },
  {
   "cell_type": "markdown",
   "id": "b111ad1d-c81a-4f9e-a166-30a774a9e6cc",
   "metadata": {},
   "source": [
    "Test large model:"
   ]
  },
  {
   "cell_type": "code",
   "execution_count": 3,
   "id": "a798f4f5-fc97-4afe-93a8-5794396cb459",
   "metadata": {},
   "outputs": [
    {
     "name": "stdout",
     "output_type": "stream",
     "text": [
      "Solution status 0: Optimization terminated successfully. (HiGHS Status 7: Optimal)\n"
     ]
    }
   ],
   "source": [
    "m = mBasicInt.mSimple(db) # initialize using the database 'db' from above.\n",
    "m() # standard steps"
   ]
  }
 ],
 "metadata": {
  "kernelspec": {
   "display_name": "Python 3 (ipykernel)",
   "language": "python",
   "name": "python3"
  },
  "language_info": {
   "codemirror_mode": {
    "name": "ipython",
    "version": 3
   },
   "file_extension": ".py",
   "mimetype": "text/x-python",
   "name": "python",
   "nbconvert_exporter": "python",
   "pygments_lexer": "ipython3",
   "version": "3.9.7"
  }
 },
 "nbformat": 4,
 "nbformat_minor": 5
}
