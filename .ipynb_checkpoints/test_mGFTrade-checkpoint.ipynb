{
 "cells": [
  {
   "cell_type": "code",
   "execution_count": 1,
   "id": "5c9b55ce-b88e-448d-99b4-bfe94953bee0",
   "metadata": {},
   "outputs": [],
   "source": [
    "%run stdPackages.ipynb"
   ]
  },
  {
   "cell_type": "markdown",
   "id": "71cd7c16-f35d-49d0-ac3f-22f5b6367987",
   "metadata": {},
   "source": [
    "# Read database"
   ]
  },
  {
   "cell_type": "code",
   "execution_count": 2,
   "id": "1e999bc1-4da4-4121-a3f5-d836e118f1e9",
   "metadata": {},
   "outputs": [],
   "source": [
    "from pyDatabases.simpleDB_wheels import read, readSets, broadcast\n",
    "kwargs = {'variables': ['Fundamentals', 'LoadVariables', 'TransmissionLines', 'GeneratorsVariables','Regulation'],\n",
    "        'maps': ['LoadMaps','GeneratorsMaps'],\n",
    "        'variable2D': ['HourlyVariation'],\n",
    "        'scalars': ['Scalars']}\n",
    "db = read.dbFromWB(os.path.join(d['data'],'mGFTrade.xlsx'), kwargs)\n",
    "readSets(db)"
   ]
  },
  {
   "cell_type": "markdown",
   "id": "d79177a7-ee06-40a0-a045-5fc0bac3e56a",
   "metadata": {},
   "source": [
    "**Basic model:**"
   ]
  },
  {
   "cell_type": "code",
   "execution_count": 3,
   "id": "67c1de43-dea6-44ea-a240-15221847ee6f",
   "metadata": {},
   "outputs": [
    {
     "name": "stdout",
     "output_type": "stream",
     "text": [
      "Solution status 0: Optimization terminated successfully. (HiGHS Status 7: Optimal)\n"
     ]
    }
   ],
   "source": [
    "m = mGFTrade.mSimple(db) # initialize using the database 'db' from above.\n",
    "m() # standard steps"
   ]
  },
  {
   "cell_type": "markdown",
   "id": "a5bb6a64-2f55-41f2-9488-06bf0e219699",
   "metadata": {},
   "source": [
    "**Emissions cap:**"
   ]
  },
  {
   "cell_type": "markdown",
   "id": "a3ab060f-9a72-47b6-8e89-36ce889484ed",
   "metadata": {},
   "source": [
    "With one common cap:"
   ]
  },
  {
   "cell_type": "code",
   "execution_count": 4,
   "id": "8ae3827d-af38-436a-a269-582f532efa74",
   "metadata": {},
   "outputs": [
    {
     "name": "stdout",
     "output_type": "stream",
     "text": [
      "Solution status 0: Optimization terminated successfully. (HiGHS Status 7: Optimal)\n"
     ]
    }
   ],
   "source": [
    "m = mGFTrade.mEmissionCap(db)\n",
    "m()"
   ]
  },
  {
   "cell_type": "markdown",
   "id": "f8da895a-fc84-4e8c-8f66-899cd385c3e8",
   "metadata": {},
   "source": [
    "With separate caps:"
   ]
  },
  {
   "cell_type": "code",
   "execution_count": 5,
   "id": "5549ee86-366b-4e25-afac-f3f8e283f22f",
   "metadata": {},
   "outputs": [
    {
     "name": "stdout",
     "output_type": "stream",
     "text": [
      "Solution status 0: Optimization terminated successfully. (HiGHS Status 7: Optimal)\n"
     ]
    }
   ],
   "source": [
    "m.commonCap = False\n",
    "m()"
   ]
  },
  {
   "cell_type": "markdown",
   "id": "7b27df06-3d7b-47e2-aa99-9d7934deef38",
   "metadata": {},
   "source": [
    "**RES:**"
   ]
  },
  {
   "cell_type": "markdown",
   "id": "a10adbc1-29cf-4e92-bb55-d14733db6c98",
   "metadata": {},
   "source": [
    "Common cap:"
   ]
  },
  {
   "cell_type": "code",
   "execution_count": 6,
   "id": "65834593-3d48-483a-b1ee-5c92a21eb499",
   "metadata": {},
   "outputs": [
    {
     "name": "stdout",
     "output_type": "stream",
     "text": [
      "Solution status 0: Optimization terminated successfully. (HiGHS Status 7: Optimal)\n"
     ]
    }
   ],
   "source": [
    "m = mGFTrade.mRES(db)\n",
    "m()"
   ]
  },
  {
   "cell_type": "markdown",
   "id": "c5cda9c7-d04b-4491-90a1-49295b3edb2f",
   "metadata": {},
   "source": [
    "With separate caps:"
   ]
  },
  {
   "cell_type": "code",
   "execution_count": 7,
   "id": "daa34ac4-09d5-4eef-b637-d595f333edaf",
   "metadata": {},
   "outputs": [
    {
     "name": "stdout",
     "output_type": "stream",
     "text": [
      "Solution status 0: Optimization terminated successfully. (HiGHS Status 7: Optimal)\n"
     ]
    }
   ],
   "source": [
    "m.commonCap = False\n",
    "m()"
   ]
  }
 ],
 "metadata": {
  "kernelspec": {
   "display_name": "Python 3 (ipykernel)",
   "language": "python",
   "name": "python3"
  },
  "language_info": {
   "codemirror_mode": {
    "name": "ipython",
    "version": 3
   },
   "file_extension": ".py",
   "mimetype": "text/x-python",
   "name": "python",
   "nbconvert_exporter": "python",
   "pygments_lexer": "ipython3",
   "version": "3.9.7"
  }
 },
 "nbformat": 4,
 "nbformat_minor": 5
}
