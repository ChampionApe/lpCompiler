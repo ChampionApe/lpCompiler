{
 "cells": [
  {
   "cell_type": "code",
   "execution_count": 1,
   "id": "857a9c6e-8b84-488e-bf71-eab93994ef50",
   "metadata": {},
   "outputs": [],
   "source": [
    "%run stdPackages.ipynb"
   ]
  },
  {
   "cell_type": "markdown",
   "id": "36c1efa0-f21b-48ae-9c6a-19a1b6b4e319",
   "metadata": {},
   "source": [
    "# Read database"
   ]
  },
  {
   "cell_type": "code",
   "execution_count": 2,
   "id": "1f8e2e94-9aaf-4d90-a510-8f34f1006b95",
   "metadata": {},
   "outputs": [],
   "source": [
    "from pyDatabases.simpleDB_wheels import read, readSets, broadcast\n",
    "kwargs = {'variables': ['Fundamentals', 'LoadVariables', 'TransmissionLines', 'GeneratorsVariables'],\n",
    "        'maps': ['LoadMaps','GeneratorsMaps'],\n",
    "        'variable2D': ['LoadVariation_E','LoadVariation_H','HourlyVariation'],\n",
    "        'scalars': ['Scalars']}\n",
    "db = read.dbFromWB(os.path.join(d['data'],'mGFPH.xlsx'), kwargs)\n",
    "readSets(db)"
   ]
  },
  {
   "cell_type": "markdown",
   "id": "3f2a0856-aa41-41c1-ba13-fd8fe6a48a30",
   "metadata": {},
   "source": [
    "100 hours:"
   ]
  },
  {
   "cell_type": "code",
   "execution_count": 3,
   "id": "0db69a92-568b-4390-b0f8-1be0a1674aa2",
   "metadata": {},
   "outputs": [],
   "source": [
    "[db.__setitem__(k,adj.rc_pd(db[k], db['h'][0:1000])) for k in db.variableDomains('h', types=['set','variable'])];"
   ]
  },
  {
   "cell_type": "markdown",
   "id": "2cb85832-2dc8-42bf-9810-2df8bd2e32e4",
   "metadata": {},
   "source": [
    "Time:"
   ]
  },
  {
   "cell_type": "code",
   "execution_count": 54,
   "id": "206b8e2c-b560-49b3-b978-26ba83d86bc3",
   "metadata": {},
   "outputs": [
    {
     "data": {
      "text/plain": [
       "{'setup': 0.15721917152404785,\n",
       " 'initBlocks': 1.7197597026824951,\n",
       " 'compileParameters': 1.0757272243499756,\n",
       " 'settingsFromCompiled': 0.0,\n",
       " 'inferGlobalDomains': 0.25620031356811523,\n",
       " 'getDenseArgs': 0.6539745330810547,\n",
       " 'lp_args': 0.40880298614501953,\n",
       " 'sol': 2.007124185562134,\n",
       " 'postSolve': 0.5398390293121338}"
      ]
     },
     "execution_count": 54,
     "metadata": {},
     "output_type": "execute_result"
    }
   ],
   "source": [
    "import time\n",
    "times = {}\n",
    "t0 = time.time()\n",
    "# Initialize model:\n",
    "m = mGFPH.mSimple(db) # initialize using the database 'db' from above.\n",
    "times['setup'] = time.time()-t0\n",
    "# Initialize blocks:\n",
    "m.preSolve()\n",
    "m.initBlocks()\n",
    "times['initBlocks'] = time.time()-t0-sum(times.values())\n",
    "# Compile model:\n",
    "m.blocks.compileParameters()\n",
    "times['compileParameters'] = time.time()-t0-sum(times.values())\n",
    "m.blocks.settingsFromCompiled()\n",
    "times['settingsFromCompiled'] = time.time()-t0-sum(times.values())\n",
    "m.blocks.inferGlobalDomains()\n",
    "times['inferGlobalDomains'] = time.time()-t0-sum(times.values())\n",
    "m.blocks.getDenseArgs()\n",
    "times['getDenseArgs'] = time.time()-t0-sum(times.values())\n",
    "args = m.blocks.lp_args\n",
    "times['lp_args'] = time.time()-t0-sum(times.values())\n",
    "sol = optimize.linprog(method = m.method, **args)\n",
    "times['sol'] = time.time()-t0-sum(times.values())\n",
    "m.postSolve(sol)\n",
    "times['postSolve'] = time.time()-t0-sum(times.values())\n",
    "times"
   ]
  },
  {
   "cell_type": "markdown",
   "id": "69c8bfc2-79f0-401d-8f29-1b5b0dc322fe",
   "metadata": {},
   "source": [
    "Try and force some sparsity to the model and see what happens:"
   ]
  },
  {
   "cell_type": "code",
   "execution_count": 67,
   "id": "373b1e9a-1d85-40ea-b2a9-26fad5c345cc",
   "metadata": {},
   "outputs": [
    {
     "data": {
      "text/plain": [
       "array([[0.  ,  nan],\n",
       "       [0.  ,  nan],\n",
       "       [0.  ,  nan],\n",
       "       ...,\n",
       "       [0.  , 2.16],\n",
       "       [0.  , 2.16],\n",
       "       [0.  , 2.16]])"
      ]
     },
     "execution_count": 67,
     "metadata": {},
     "output_type": "execute_result"
    }
   ],
   "source": [
    "args['bounds']"
   ]
  },
  {
   "cell_type": "code",
   "execution_count": 64,
   "id": "89253cad-5a3f-44d2-a65f-9637455863ec",
   "metadata": {},
   "outputs": [
    {
     "data": {
      "text/plain": [
       "(42028, 2)"
      ]
     },
     "execution_count": 64,
     "metadata": {},
     "output_type": "execute_result"
    }
   ],
   "source": [
    "args['bounds'].shape"
   ]
  },
  {
   "cell_type": "code",
   "execution_count": 59,
   "id": "53adc0e9-f488-4e25-aa40-90f4e2a756d9",
   "metadata": {},
   "outputs": [],
   "source": [
    "args['c'] = pd.arrays.SparseArray(args['c'], fill_value = 0)\n",
    "args['l'] = pd.arras"
   ]
  },
  {
   "cell_type": "code",
   "execution_count": 60,
   "id": "465b2e3f-9126-4fa5-855b-bba7e2b3287c",
   "metadata": {},
   "outputs": [],
   "source": [
    "sol = optimize.linprog(method = m.method, **args)"
   ]
  }
 ],
 "metadata": {
  "kernelspec": {
   "display_name": "Python 3 (ipykernel)",
   "language": "python",
   "name": "python3"
  },
  "language_info": {
   "codemirror_mode": {
    "name": "ipython",
    "version": 3
   },
   "file_extension": ".py",
   "mimetype": "text/x-python",
   "name": "python",
   "nbconvert_exporter": "python",
   "pygments_lexer": "ipython3",
   "version": "3.9.7"
  }
 },
 "nbformat": 4,
 "nbformat_minor": 5
}
