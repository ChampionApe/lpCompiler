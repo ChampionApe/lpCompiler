{
 "cells": [
  {
   "cell_type": "code",
   "execution_count": 1,
   "id": "72379b62-65a4-433b-957f-ba6b6528a63c",
   "metadata": {},
   "outputs": [],
   "source": [
    "%run stdPackages.ipynb"
   ]
  },
  {
   "cell_type": "markdown",
   "id": "f62514aa-6257-49ce-9d96-011acdfb61aa",
   "metadata": {},
   "source": [
    "*Test database:*"
   ]
  },
  {
   "cell_type": "code",
   "execution_count": 2,
   "id": "dde4e872-b78a-4f33-9d6e-658c1e121d9c",
   "metadata": {},
   "outputs": [
    {
     "ename": "KeyError",
     "evalue": "'Worksheet MWP does not exist.'",
     "output_type": "error",
     "traceback": [
      "\u001b[1;31m---------------------------------------------------------------------------\u001b[0m",
      "\u001b[1;31mKeyError\u001b[0m                                  Traceback (most recent call last)",
      "\u001b[1;32m~\\AppData\\Local\\Temp/ipykernel_11076/316387904.py\u001b[0m in \u001b[0;36m<module>\u001b[1;34m\u001b[0m\n\u001b[0;32m      4\u001b[0m         \u001b[1;34m'scalars'\u001b[0m\u001b[1;33m:\u001b[0m \u001b[1;33m[\u001b[0m\u001b[1;34m'MWP'\u001b[0m\u001b[1;33m]\u001b[0m\u001b[1;33m,\u001b[0m\u001b[1;33m\u001b[0m\u001b[1;33m\u001b[0m\u001b[0m\n\u001b[0;32m      5\u001b[0m         'maps': ['Generators_Categories']}\n\u001b[1;32m----> 6\u001b[1;33m \u001b[0mdb\u001b[0m \u001b[1;33m=\u001b[0m \u001b[0mread\u001b[0m\u001b[1;33m.\u001b[0m\u001b[0mdbFromWB\u001b[0m\u001b[1;33m(\u001b[0m\u001b[0mos\u001b[0m\u001b[1;33m.\u001b[0m\u001b[0mpath\u001b[0m\u001b[1;33m.\u001b[0m\u001b[0mjoin\u001b[0m\u001b[1;33m(\u001b[0m\u001b[0md\u001b[0m\u001b[1;33m[\u001b[0m\u001b[1;34m'data'\u001b[0m\u001b[1;33m]\u001b[0m\u001b[1;33m,\u001b[0m\u001b[1;34m'mBasicInt.xlsx'\u001b[0m\u001b[1;33m)\u001b[0m\u001b[1;33m,\u001b[0m \u001b[0mkwargs\u001b[0m\u001b[1;33m)\u001b[0m\u001b[1;33m\u001b[0m\u001b[1;33m\u001b[0m\u001b[0m\n\u001b[0m\u001b[0;32m      7\u001b[0m \u001b[0mdb\u001b[0m\u001b[1;33m.\u001b[0m\u001b[0mupdateAlias\u001b[0m\u001b[1;33m(\u001b[0m\u001b[0malias\u001b[0m\u001b[1;33m=\u001b[0m\u001b[1;33m[\u001b[0m\u001b[1;33m(\u001b[0m\u001b[1;34m'h'\u001b[0m\u001b[1;33m,\u001b[0m\u001b[1;34m'h_alias'\u001b[0m\u001b[1;33m)\u001b[0m\u001b[1;33m]\u001b[0m\u001b[1;33m)\u001b[0m\u001b[1;33m\u001b[0m\u001b[1;33m\u001b[0m\u001b[0m\n\u001b[0;32m      8\u001b[0m \u001b[0mreadSets\u001b[0m\u001b[1;33m(\u001b[0m\u001b[0mdb\u001b[0m\u001b[1;33m)\u001b[0m\u001b[1;33m\u001b[0m\u001b[1;33m\u001b[0m\u001b[0m\n",
      "\u001b[1;32m~\\Anaconda3\\lib\\site-packages\\pyDbs\\simpleDB.py\u001b[0m in \u001b[0;36mdbFromWB\u001b[1;34m(workbook, kwargs, spliton)\u001b[0m\n\u001b[0;32m    105\u001b[0m                 \u001b[0mwb\u001b[0m \u001b[1;33m=\u001b[0m \u001b[0mread\u001b[0m\u001b[1;33m.\u001b[0m\u001b[0msimpleLoad\u001b[0m\u001b[1;33m(\u001b[0m\u001b[0mworkbook\u001b[0m\u001b[1;33m)\u001b[0m \u001b[1;32mif\u001b[0m \u001b[0misinstance\u001b[0m\u001b[1;33m(\u001b[0m\u001b[0mworkbook\u001b[0m\u001b[1;33m,\u001b[0m\u001b[0mstr\u001b[0m\u001b[1;33m)\u001b[0m \u001b[1;32melse\u001b[0m \u001b[0mworkbook\u001b[0m\u001b[1;33m\u001b[0m\u001b[1;33m\u001b[0m\u001b[0m\n\u001b[0;32m    106\u001b[0m                 \u001b[0mdb\u001b[0m \u001b[1;33m=\u001b[0m \u001b[0mSimpleDB\u001b[0m\u001b[1;33m(\u001b[0m\u001b[1;33m)\u001b[0m\u001b[1;33m\u001b[0m\u001b[1;33m\u001b[0m\u001b[0m\n\u001b[1;32m--> 107\u001b[1;33m                 \u001b[1;33m[\u001b[0m\u001b[0mdb\u001b[0m\u001b[1;33m.\u001b[0m\u001b[0mmergeDbs\u001b[0m\u001b[1;33m(\u001b[0m\u001b[0mgetattr\u001b[0m\u001b[1;33m(\u001b[0m\u001b[0mread\u001b[0m\u001b[1;33m,\u001b[0m \u001b[0mfunction\u001b[0m\u001b[1;33m)\u001b[0m\u001b[1;33m(\u001b[0m\u001b[0mwb\u001b[0m\u001b[1;33m[\u001b[0m\u001b[0msheet\u001b[0m\u001b[1;33m]\u001b[0m\u001b[1;33m,\u001b[0m\u001b[0mspliton\u001b[0m\u001b[1;33m=\u001b[0m\u001b[0mspliton\u001b[0m\u001b[1;33m)\u001b[0m\u001b[1;33m)\u001b[0m \u001b[1;32mfor\u001b[0m \u001b[0mfunction\u001b[0m\u001b[1;33m,\u001b[0m\u001b[0msheets\u001b[0m \u001b[1;32min\u001b[0m \u001b[0mkwargs\u001b[0m\u001b[1;33m.\u001b[0m\u001b[0mitems\u001b[0m\u001b[1;33m(\u001b[0m\u001b[1;33m)\u001b[0m \u001b[1;32mfor\u001b[0m \u001b[0msheet\u001b[0m \u001b[1;32min\u001b[0m \u001b[0msheets\u001b[0m\u001b[1;33m]\u001b[0m\u001b[1;33m;\u001b[0m\u001b[1;33m\u001b[0m\u001b[1;33m\u001b[0m\u001b[0m\n\u001b[0m\u001b[0;32m    108\u001b[0m                 \u001b[1;32mreturn\u001b[0m \u001b[0mdb\u001b[0m\u001b[1;33m\u001b[0m\u001b[1;33m\u001b[0m\u001b[0m\n\u001b[0;32m    109\u001b[0m \u001b[1;33m\u001b[0m\u001b[0m\n",
      "\u001b[1;32m~\\Anaconda3\\lib\\site-packages\\pyDbs\\simpleDB.py\u001b[0m in \u001b[0;36m<listcomp>\u001b[1;34m(.0)\u001b[0m\n\u001b[0;32m    105\u001b[0m                 \u001b[0mwb\u001b[0m \u001b[1;33m=\u001b[0m \u001b[0mread\u001b[0m\u001b[1;33m.\u001b[0m\u001b[0msimpleLoad\u001b[0m\u001b[1;33m(\u001b[0m\u001b[0mworkbook\u001b[0m\u001b[1;33m)\u001b[0m \u001b[1;32mif\u001b[0m \u001b[0misinstance\u001b[0m\u001b[1;33m(\u001b[0m\u001b[0mworkbook\u001b[0m\u001b[1;33m,\u001b[0m\u001b[0mstr\u001b[0m\u001b[1;33m)\u001b[0m \u001b[1;32melse\u001b[0m \u001b[0mworkbook\u001b[0m\u001b[1;33m\u001b[0m\u001b[1;33m\u001b[0m\u001b[0m\n\u001b[0;32m    106\u001b[0m                 \u001b[0mdb\u001b[0m \u001b[1;33m=\u001b[0m \u001b[0mSimpleDB\u001b[0m\u001b[1;33m(\u001b[0m\u001b[1;33m)\u001b[0m\u001b[1;33m\u001b[0m\u001b[1;33m\u001b[0m\u001b[0m\n\u001b[1;32m--> 107\u001b[1;33m                 \u001b[1;33m[\u001b[0m\u001b[0mdb\u001b[0m\u001b[1;33m.\u001b[0m\u001b[0mmergeDbs\u001b[0m\u001b[1;33m(\u001b[0m\u001b[0mgetattr\u001b[0m\u001b[1;33m(\u001b[0m\u001b[0mread\u001b[0m\u001b[1;33m,\u001b[0m \u001b[0mfunction\u001b[0m\u001b[1;33m)\u001b[0m\u001b[1;33m(\u001b[0m\u001b[0mwb\u001b[0m\u001b[1;33m[\u001b[0m\u001b[0msheet\u001b[0m\u001b[1;33m]\u001b[0m\u001b[1;33m,\u001b[0m\u001b[0mspliton\u001b[0m\u001b[1;33m=\u001b[0m\u001b[0mspliton\u001b[0m\u001b[1;33m)\u001b[0m\u001b[1;33m)\u001b[0m \u001b[1;32mfor\u001b[0m \u001b[0mfunction\u001b[0m\u001b[1;33m,\u001b[0m\u001b[0msheets\u001b[0m \u001b[1;32min\u001b[0m \u001b[0mkwargs\u001b[0m\u001b[1;33m.\u001b[0m\u001b[0mitems\u001b[0m\u001b[1;33m(\u001b[0m\u001b[1;33m)\u001b[0m \u001b[1;32mfor\u001b[0m \u001b[0msheet\u001b[0m \u001b[1;32min\u001b[0m \u001b[0msheets\u001b[0m\u001b[1;33m]\u001b[0m\u001b[1;33m;\u001b[0m\u001b[1;33m\u001b[0m\u001b[1;33m\u001b[0m\u001b[0m\n\u001b[0m\u001b[0;32m    108\u001b[0m                 \u001b[1;32mreturn\u001b[0m \u001b[0mdb\u001b[0m\u001b[1;33m\u001b[0m\u001b[1;33m\u001b[0m\u001b[0m\n\u001b[0;32m    109\u001b[0m \u001b[1;33m\u001b[0m\u001b[0m\n",
      "\u001b[1;32m~\\Anaconda3\\lib\\site-packages\\openpyxl\\workbook\\workbook.py\u001b[0m in \u001b[0;36m__getitem__\u001b[1;34m(self, key)\u001b[0m\n\u001b[0;32m    286\u001b[0m             \u001b[1;32mif\u001b[0m \u001b[0msheet\u001b[0m\u001b[1;33m.\u001b[0m\u001b[0mtitle\u001b[0m \u001b[1;33m==\u001b[0m \u001b[0mkey\u001b[0m\u001b[1;33m:\u001b[0m\u001b[1;33m\u001b[0m\u001b[1;33m\u001b[0m\u001b[0m\n\u001b[0;32m    287\u001b[0m                 \u001b[1;32mreturn\u001b[0m \u001b[0msheet\u001b[0m\u001b[1;33m\u001b[0m\u001b[1;33m\u001b[0m\u001b[0m\n\u001b[1;32m--> 288\u001b[1;33m         \u001b[1;32mraise\u001b[0m \u001b[0mKeyError\u001b[0m\u001b[1;33m(\u001b[0m\u001b[1;34m\"Worksheet {0} does not exist.\"\u001b[0m\u001b[1;33m.\u001b[0m\u001b[0mformat\u001b[0m\u001b[1;33m(\u001b[0m\u001b[0mkey\u001b[0m\u001b[1;33m)\u001b[0m\u001b[1;33m)\u001b[0m\u001b[1;33m\u001b[0m\u001b[1;33m\u001b[0m\u001b[0m\n\u001b[0m\u001b[0;32m    289\u001b[0m \u001b[1;33m\u001b[0m\u001b[0m\n\u001b[0;32m    290\u001b[0m     \u001b[1;32mdef\u001b[0m \u001b[0m__delitem__\u001b[0m\u001b[1;33m(\u001b[0m\u001b[0mself\u001b[0m\u001b[1;33m,\u001b[0m \u001b[0mkey\u001b[0m\u001b[1;33m)\u001b[0m\u001b[1;33m:\u001b[0m\u001b[1;33m\u001b[0m\u001b[1;33m\u001b[0m\u001b[0m\n",
      "\u001b[1;31mKeyError\u001b[0m: 'Worksheet MWP does not exist.'"
     ]
    }
   ],
   "source": [
    "from pyDbs import read, readSets, broadcast\n",
    "kwargs = {'variables': ['Fundamentals', 'Load', 'Generators_Other'], \n",
    "        'variable2D': ['Generators_FuelMix','HourlyVariation'],\n",
    "        'scalars': ['MWP'],\n",
    "        'maps': ['Generators_Categories']}\n",
    "db = read.dbFromWB(os.path.join(d['data'],'mBasicInt.xlsx'), kwargs)\n",
    "db.updateAlias(alias=[('h','h_alias')])\n",
    "readSets(db)"
   ]
  },
  {
   "cell_type": "markdown",
   "id": "a746568b-b551-47d2-b95a-c6e5c9a249fd",
   "metadata": {},
   "source": [
    "# lpCompiler, standard version "
   ]
  },
  {
   "cell_type": "markdown",
   "id": "f6b59b57-9ace-4012-92ee-9289857f074b",
   "metadata": {},
   "source": [
    "This version of the ```lpCompiler``` works a lot like the old version, with the exception that the final collection of arguments is made sparse. This means that the compiler - in broad terms - consists of the following steps:\n",
    "1. Add arguments for the five building blocks (```c, l, u, beq, bub, Aeq, Aub ```). All coefficients should be added with as ```pd.Series``` defined over appropriate ```pd.MultiIndex```. Relevant coefficients are stored in ```self.parameters``` - a dictionary with keys ```c, l, u, beq, bub, Aeq, Aub```.\n",
    "2. Infer global domains from the building blocks and store at ```self.gIndex```. The global domains are stored as flattened multiindices with forced level names (elaboration below).\n",
    "3. Broadcast coefficients to full domains (and sort). Relevant coefficients are stored in ```self.broadcasted``` - a dictionary with keys ```c, l, u, beq, bub, Aeq, Aub```. An option ```sparse = True``` makes the broadcasted series sparse (default is False).\n",
    "4. The method ```self.lp_args``` finally stacks all relevant building blocks and returns a dictionary to be passed to the ```scipy.optimize.lp``` solver."
   ]
  },
  {
   "cell_type": "code",
   "execution_count": null,
   "id": "c5d12ace-714b-4e9d-b2c9-25229b1fadec",
   "metadata": {},
   "outputs": [],
   "source": [
    "_blocks = ('c','l','u','b_eq','b_ub','A_eq','A_ub')\n",
    "_stdLinProg = ('c', 'A_ub','b_ub','A_eq','b_eq','bounds')\n",
    "self = lpBlock()"
   ]
  },
  {
   "cell_type": "markdown",
   "id": "4b641df4-63e2-40c2-a417-ddeaea57eb81",
   "metadata": {},
   "source": [
    "## 1. Adding arguments"
   ]
  },
  {
   "cell_type": "markdown",
   "id": "470b8609-88a1-47cb-b332-fe0096f63742",
   "metadata": {},
   "source": [
    "We specify three different methods for adding arguments: \n",
    "1. Add specific parameter to one of the five major blocks (```c,l,u,beq,bub,Aeq,Aub```). We specify separate functions for the different 5 blocks. \n",
    "2. Build entire parameter blocks from collection of arguments (faster). Speed up initialization, but less flexible.\n",
    "3. Add constraint (relevant parts of ```b, A```) together."
   ]
  },
  {
   "cell_type": "markdown",
   "id": "d529ff50-41ee-40b4-916c-ec07614d04f3",
   "metadata": {},
   "source": [
    "### 1.1. Add specific parameter to ```self.parameters```"
   ]
  },
  {
   "cell_type": "markdown",
   "id": "395302c4-f6ba-47b0-8bb0-ce870d774342",
   "metadata": {
    "tags": []
   },
   "source": [
    "#### For ```c,l,u``` types: \n",
    "\n",
    "Should be added as pd.Series with appropriate values, indices, and name of series (corresponding to variable name). To distinguish between adding ```c,l,u``` type of arguments, we specify a separate add function for each of them (e.g. ```add_c```). More specifically:\n",
    "* ```name```: The name input is required as it used to add/adjust/subtract coefficient blocks after initial compilation.\n",
    "* ```value = None```: \n",
    "    * If the input is a scalar: The scalar is added with variable name ```varName```.\n",
    "    * If the input is a pd.Series: The name of the series identifies the variable name. If ```None``` we default to the ```name```.\n",
    "    * If the input is a list/tuple: The various components are summed/max/min if the block type is ```c,l,u``` respectively.\n",
    "* ```varName = None```: If the input is a scalar, this specifies the name of this scalar.\n",
    "\n",
    "*Note that this method of adding components implicitly assumes that each component only deals with one variable at a time.*\n",
    "\n",
    "*NB: We should add a method that does not merge by adding and broadcasting, but instead simply stacks the arguments collected in some iterator.* "
   ]
  },
  {
   "cell_type": "code",
   "execution_count": null,
   "id": "ebccc74a-e2b7-4a5d-b0a7-c62ff2719a88",
   "metadata": {},
   "outputs": [],
   "source": [
    "self.globalDomains['eq constr'] = db['h_alias'] # set global domains for the constraint to the hourly index\n",
    "self.globalDomains['Generation'] = pd.MultiIndex.from_product([db['h'], db['id']])\n",
    "self.globalDomains['HourlyDemand'] = db['h']"
   ]
  },
  {
   "cell_type": "markdown",
   "id": "7dbb35b1-c583-4017-b9f8-a0a76cfa8ba9",
   "metadata": {},
   "source": [
    "**Tests:**"
   ]
  },
  {
   "cell_type": "code",
   "execution_count": null,
   "id": "fcdcedda-0f1c-4bee-8da5-d534f27e9f4e",
   "metadata": {},
   "outputs": [],
   "source": [
    "self.add_c('test c', value = adjMultiIndex.bc(db['OtherMC'] , db['h']), varName = 'Generation')\n",
    "self.add_c('test sum c', value = [self.parameters['c'][('Generation','test c')]]*2, varName = 'Generation')\n",
    "self.add_c('demand test', value = -10, varName = 'HourlyDemand')\n",
    "self.add_u('test u', value = adjMultiIndex.bc(db['GeneratingCapacity'], db['h']), varName = 'Generation')\n",
    "self.add_u('demand u', value = 10, varName = 'HourlyDemand')"
   ]
  },
  {
   "cell_type": "markdown",
   "id": "93e54140-b964-4157-8d63-a2a19c8c1664",
   "metadata": {
    "tags": []
   },
   "source": [
    "#### For ```eq, ub``` types:\n",
    "\n",
    "Equations and upper bound constraints consists of a vector of constants (```b```) and a matrix that relates to the variables (``` A ```). \n",
    "\n",
    "* Adding coefficients on constraint vectors (```beq,bub```): Similar way to ```c,l,u``` with the difference that names relative to the relevant constraint.\n",
    "\n",
    "* Adding coefficients on constraint matrices (```Aeq,Aub```): Requires combination of name, constraint, and relevant variable. \n",
    "    * ```name```: The name is required as it is used to add/adjust/subtract coefficient blocks after initial compilation.\n",
    "    * ```value=None```:\n",
    "        * If scalar: \n",
    "    * ```varName=None```:  Name of variable relevant coefficients.\n",
    "    * ```constrName=None```: Name of constraint."
   ]
  },
  {
   "cell_type": "code",
   "execution_count": null,
   "id": "57f340a4-17b5-4223-b5ca-395761547048",
   "metadata": {},
   "outputs": [],
   "source": [
    "self.add_b_eq(value = None, constrName = 'eq constr')\n",
    "self.add_A_eq(value = appIndexWithCopySeries(pd.Series(1, index = self.globalDomains['Generation']), 'h','h_alias'), constrName = 'eq constr', varName = 'Generation')\n",
    "self.add_A_eq(value =appIndexWithCopySeries(pd.Series(-1, index = self.globalDomains['HourlyDemand']), 'h','h_alias'), constrName = 'eq constr', varName = 'HourlyDemand')"
   ]
  },
  {
   "cell_type": "markdown",
   "id": "bd4c2abf-27f5-4486-b0a6-4dda5ee10497",
   "metadata": {},
   "source": [
    "### 1.2. TO DO\n",
    "### 1.3. TO DO"
   ]
  },
  {
   "cell_type": "markdown",
   "id": "0b3a9358-2dc4-4aed-acca-6b3073d415ad",
   "metadata": {},
   "source": [
    "## 2. Compile - create 1d/2d multiindices"
   ]
  },
  {
   "cell_type": "code",
   "execution_count": null,
   "id": "8646c144-7331-444d-9a91-baf101b49cc0",
   "metadata": {},
   "outputs": [],
   "source": [
    "self.compileParameters()"
   ]
  },
  {
   "cell_type": "markdown",
   "id": "7abf6520-02ad-4bdf-8b33-d1873907247c",
   "metadata": {},
   "source": [
    "## 3. Settings from compiled"
   ]
  },
  {
   "cell_type": "code",
   "execution_count": null,
   "id": "543a973b-f510-4866-b222-4d5c5fc59fa9",
   "metadata": {},
   "outputs": [],
   "source": [
    "self.settingsFromCompiled()"
   ]
  },
  {
   "cell_type": "markdown",
   "id": "b551b2eb-fbff-483e-8036-b758e04a6b97",
   "metadata": {},
   "source": [
    "## 4. Infer global domains"
   ]
  },
  {
   "cell_type": "markdown",
   "id": "2a255f04-2f8e-481a-b556-3d0f446a0deb",
   "metadata": {},
   "source": [
    "Infer the relevant domains for variables based on entries in coefficient matrices:"
   ]
  },
  {
   "cell_type": "code",
   "execution_count": null,
   "id": "7c40122b-ed98-43c1-9815-ed78289c3bdd",
   "metadata": {},
   "outputs": [],
   "source": [
    "self.inferGlobalDomains()"
   ]
  },
  {
   "cell_type": "markdown",
   "id": "0a8c27d0-8e58-44e4-8c4d-336658cf3b77",
   "metadata": {},
   "source": [
    "## 5. Compile"
   ]
  },
  {
   "cell_type": "code",
   "execution_count": null,
   "id": "ffe9b39f-4d96-4d7d-9f51-4b0fac289c7d",
   "metadata": {},
   "outputs": [],
   "source": [
    "self.getDenseArgs()"
   ]
  },
  {
   "cell_type": "markdown",
   "id": "8dddb4eb-3858-4e8d-860e-d280bd640cbc",
   "metadata": {},
   "source": [
    "Collect arguments:"
   ]
  },
  {
   "cell_type": "markdown",
   "id": "f4052783-e29a-436d-b055-067beb560ff4",
   "metadata": {},
   "source": [
    "## 6. Return lp arguments:"
   ]
  },
  {
   "cell_type": "code",
   "execution_count": null,
   "id": "9ddb114e-03a9-4e81-81c4-cf134a98f91e",
   "metadata": {},
   "outputs": [],
   "source": [
    "self.lp_args"
   ]
  },
  {
   "cell_type": "markdown",
   "id": "415a271f-f8bf-41d3-8291-0905ce815e85",
   "metadata": {},
   "source": [
    "## 7. Using the ```__call__``` method"
   ]
  },
  {
   "cell_type": "markdown",
   "id": "8b20370c-40ba-42b7-ab7f-0ee4a8f1d8aa",
   "metadata": {},
   "source": [
    "Initialize again and add model specifications:"
   ]
  },
  {
   "cell_type": "code",
   "execution_count": null,
   "id": "64c4da3a-5813-46c9-b1c0-301a190de8ea",
   "metadata": {},
   "outputs": [],
   "source": [
    "self = lpBlock()\n",
    "self.globalDomains['eq constr'] = db['h_alias'] # set global domains for the constraint to the hourly index\n",
    "self.globalDomains['Generation'] = pd.MultiIndex.from_product([db['h'], db['id']])\n",
    "self.globalDomains['HourlyDemand'] = db['h']\n",
    "self.add_c('test c', value = adjMultiIndex.bc(db['OtherMC'] , db['h']), varName = 'Generation')\n",
    "self.add_c('test sum c', value = [self.parameters['c'][('Generation','test c')]]*2, varName = 'Generation')\n",
    "self.add_c('demand test', value = -10, varName = 'HourlyDemand')\n",
    "self.add_u('test u', value = adjMultiIndex.bc(db['GeneratingCapacity'], db['h']), varName = 'Generation')\n",
    "self.add_u('demand u', value = 10, varName = 'HourlyDemand')\n",
    "self.add_b_eq(value = None, constrName = 'eq constr')\n",
    "self.add_A_eq(value = appIndexWithCopySeries(pd.Series(1, index = self.globalDomains['Generation']), 'h','h_alias'), constrName = 'eq constr', varName = 'Generation')\n",
    "self.add_A_eq(value =appIndexWithCopySeries(pd.Series(-1, index = self.globalDomains['HourlyDemand']), 'h','h_alias'), constrName = 'eq constr', varName = 'HourlyDemand')"
   ]
  },
  {
   "cell_type": "markdown",
   "id": "6f8ad190-f2e1-4a42-ad4b-9dc9d8ef01ce",
   "metadata": {},
   "source": [
    "Use ```__call__```  to compile and everything:"
   ]
  },
  {
   "cell_type": "code",
   "execution_count": null,
   "id": "ab9cab07-cd13-4bfe-827c-0b2a72468a2e",
   "metadata": {},
   "outputs": [],
   "source": [
    "args = self()"
   ]
  }
 ],
 "metadata": {
  "kernelspec": {
   "display_name": "Python 3 (ipykernel)",
   "language": "python",
   "name": "python3"
  },
  "language_info": {
   "codemirror_mode": {
    "name": "ipython",
    "version": 3
   },
   "file_extension": ".py",
   "mimetype": "text/x-python",
   "name": "python",
   "nbconvert_exporter": "python",
   "pygments_lexer": "ipython3",
   "version": "3.9.7"
  }
 },
 "nbformat": 4,
 "nbformat_minor": 5
}
