{
 "cells": [
  {
   "cell_type": "code",
   "execution_count": 1,
   "id": "99a1fa65-36e5-4c7a-a97b-691db013d6df",
   "metadata": {},
   "outputs": [],
   "source": [
    "%run stdPackages.ipynb"
   ]
  },
  {
   "cell_type": "markdown",
   "id": "1dd7467a-7ebc-403e-b287-eca40a30f6fe",
   "metadata": {},
   "source": [
    "# Read database"
   ]
  },
  {
   "cell_type": "code",
   "execution_count": 2,
   "id": "e3a2f935-824d-4687-afcb-cf4cd126768c",
   "metadata": {},
   "outputs": [],
   "source": [
    "from pydb import read, readSets, broadcast\n",
    "kwargs = {'variables': ['Fundamentals', 'Load', 'Generators_Other'], \n",
    "        'variable2D': ['Generators_FuelMix','HourlyVariation'],\n",
    "        'scalars': ['Scalars'],\n",
    "        'maps': ['Generators_Categories']}\n",
    "db = read.dbFromWB(os.path.join(d['data'],'mBasicInt.xlsx'), kwargs)\n",
    "db.updateAlias(alias=[('h','h_alias')])\n",
    "readSets(db)"
   ]
  },
  {
   "cell_type": "markdown",
   "id": "e6936590-cff2-4638-b9f6-520ee4451be0",
   "metadata": {},
   "source": [
    "**Basic model:**"
   ]
  },
  {
   "cell_type": "code",
   "execution_count": 3,
   "id": "52f72657-c2f7-4966-a21b-cdb0123aa333",
   "metadata": {},
   "outputs": [
    {
     "name": "stdout",
     "output_type": "stream",
     "text": [
      "Solution status 0: Optimization terminated successfully. (HiGHS Status 7: Optimal)\n"
     ]
    }
   ],
   "source": [
    "m = mBasicInt.mSimple(db) # initialize using the database 'db' from above.\n",
    "m() # standard steps"
   ]
  },
  {
   "cell_type": "markdown",
   "id": "95db59f2-1529-4d68-94d8-5de18fbaa9a8",
   "metadata": {},
   "source": [
    "**With emission cap:**"
   ]
  },
  {
   "cell_type": "code",
   "execution_count": 4,
   "id": "4a9d5cf9-e3af-4270-9fe9-66e99ac6bea4",
   "metadata": {},
   "outputs": [
    {
     "name": "stdout",
     "output_type": "stream",
     "text": [
      "Solution status 0: Optimization terminated successfully. (HiGHS Status 7: Optimal)\n"
     ]
    }
   ],
   "source": [
    "m = mBasicInt.mEmissionCap(db) # initialize using the database 'db' from above.\n",
    "m() # standard steps"
   ]
  },
  {
   "cell_type": "markdown",
   "id": "7d4328fe-b495-4ac4-aeec-5e8e58ca5315",
   "metadata": {},
   "source": [
    "**With RES cap:**"
   ]
  },
  {
   "cell_type": "code",
   "execution_count": 5,
   "id": "433e2e98-4747-43a2-b2d8-e592f7add00f",
   "metadata": {},
   "outputs": [
    {
     "name": "stdout",
     "output_type": "stream",
     "text": [
      "Solution status 0: Optimization terminated successfully. (HiGHS Status 7: Optimal)\n"
     ]
    }
   ],
   "source": [
    "m = mBasicInt.mRES(db)\n",
    "m()"
   ]
  },
  {
   "cell_type": "markdown",
   "id": "5f4afda2-41bc-4743-a938-78e52b562c1a",
   "metadata": {},
   "source": [
    "**With multiple consumers:**"
   ]
  },
  {
   "cell_type": "code",
   "execution_count": 6,
   "id": "54906a40-eb5b-411b-a140-f66065feda54",
   "metadata": {},
   "outputs": [
    {
     "name": "stdout",
     "output_type": "stream",
     "text": [
      "Solution status 0: Optimization terminated successfully. (HiGHS Status 7: Optimal)\n"
     ]
    }
   ],
   "source": [
    "m = mBasicInt.mMultipleConsumers(db)\n",
    "m()"
   ]
  }
 ],
 "metadata": {
  "kernelspec": {
   "display_name": "Python 3 (ipykernel)",
   "language": "python",
   "name": "python3"
  },
  "language_info": {
   "codemirror_mode": {
    "name": "ipython",
    "version": 3
   },
   "file_extension": ".py",
   "mimetype": "text/x-python",
   "name": "python",
   "nbconvert_exporter": "python",
   "pygments_lexer": "ipython3",
   "version": "3.9.7"
  }
 },
 "nbformat": 4,
 "nbformat_minor": 5
}
