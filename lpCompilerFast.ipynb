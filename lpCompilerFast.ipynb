{
 "cells": [
  {
   "cell_type": "markdown",
   "id": "368af0a3-7aaa-41c5-8a6a-8791e11f65ed",
   "metadata": {},
   "source": [
    "Assume: \n",
    "1. No summing/max/min when adding a component - only use stacking. ```optional```\n",
    "2. Build up the program by first declaring variables/constraints - at least the domains they are defined over. This will help us match indices in the A-matrix. ```requirement```\n",
    "3. If we create global domains for all relevant variables/constraints (and not just the names of domains), we can simplify establishing the ```gIndex``` and entirely drop the ```SettingsFromCompiled```.\n",
    "4. Make sure that globalDomains are stored - and not just a dict that is created using the ```property``` method. We are calling it a looot of times - and it makes things quite slow."
   ]
  }
 ],
 "metadata": {
  "kernelspec": {
   "display_name": "Python 3 (ipykernel)",
   "language": "python",
   "name": "python3"
  },
  "language_info": {
   "codemirror_mode": {
    "name": "ipython",
    "version": 3
   },
   "file_extension": ".py",
   "mimetype": "text/x-python",
   "name": "python",
   "nbconvert_exporter": "python",
   "pygments_lexer": "ipython3",
   "version": "3.9.7"
  }
 },
 "nbformat": 4,
 "nbformat_minor": 5
}
